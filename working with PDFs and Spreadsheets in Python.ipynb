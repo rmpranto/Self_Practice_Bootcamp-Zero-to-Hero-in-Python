{
 "cells": [
  {
   "cell_type": "markdown",
   "id": "a57d9ff5",
   "metadata": {},
   "source": [
    "# csv"
   ]
  },
  {
   "cell_type": "code",
   "execution_count": 1,
   "id": "748a4465",
   "metadata": {},
   "outputs": [],
   "source": [
    "import csv"
   ]
  },
  {
   "cell_type": "code",
   "execution_count": 6,
   "id": "62c3084d",
   "metadata": {},
   "outputs": [],
   "source": [
    "#open file\n",
    "data = open('example.csv',encoding='utf-8')"
   ]
  },
  {
   "cell_type": "code",
   "execution_count": 7,
   "id": "b678dea4",
   "metadata": {},
   "outputs": [
    {
     "data": {
      "text/plain": [
       "<_io.TextIOWrapper name='example.csv' mode='r' encoding='utf-8'>"
      ]
     },
     "execution_count": 7,
     "metadata": {},
     "output_type": "execute_result"
    }
   ],
   "source": [
    "data"
   ]
  },
  {
   "cell_type": "code",
   "execution_count": 8,
   "id": "c1fce9a2",
   "metadata": {},
   "outputs": [],
   "source": [
    "#csv.reader\n",
    "csv_data = csv.reader(data)"
   ]
  },
  {
   "cell_type": "code",
   "execution_count": 9,
   "id": "f2d94ad8",
   "metadata": {},
   "outputs": [],
   "source": [
    "data_lines = list(csv_data)"
   ]
  },
  {
   "cell_type": "code",
   "execution_count": 15,
   "id": "7d466845",
   "metadata": {
    "scrolled": true
   },
   "outputs": [
    {
     "data": {
      "text/plain": [
       "['id', 'first_name', 'last_name', 'email', 'gender', 'ip_address', 'city']"
      ]
     },
     "execution_count": 15,
     "metadata": {},
     "output_type": "execute_result"
    }
   ],
   "source": [
    "data_lines[0]"
   ]
  },
  {
   "cell_type": "code",
   "execution_count": 16,
   "id": "39d4d792",
   "metadata": {},
   "outputs": [
    {
     "data": {
      "text/plain": [
       "1001"
      ]
     },
     "execution_count": 16,
     "metadata": {},
     "output_type": "execute_result"
    }
   ],
   "source": [
    "len(data_lines)"
   ]
  },
  {
   "cell_type": "code",
   "execution_count": 22,
   "id": "bea4101c",
   "metadata": {},
   "outputs": [
    {
     "name": "stdout",
     "output_type": "stream",
     "text": [
      "['jzaniolini0@simplemachines.org', 'fdrillingcourt1@umich.edu', 'nherity2@statcounter.com', 'ofrayling3@economist.com', 'jmurrison4@cbslocal.com', 'lgamet5@list-manage.com', 'dhowatt6@amazon.com', 'kherion7@amazon.com', 'chedworth8@china.com.cn', 'hgasquoine9@google.ru', 'ftarra@shareasale.com', 'abathb@umn.edu', 'lchastangc@goo.gl', 'cceried@yale.edu', 'ajeppe@umich.edu', 'pcaldeirof@chronoengine.com', 'nclunieg@utexas.edu', 'kroish@unicef.org', 'iboycotti@dailymail.co.uk', 'bglanertj@timesonline.co.uk', 'pcarolik@cam.ac.uk', 'vdranl@independent.co.uk', 'groantreem@nba.com', 'tdawidowitschn@free.fr', 'schoulertono@wisc.edu', 'eseawellp@live.com', 'daldrinq@wired.com', 'jdankr@miibeian.gov.cn', 'mlampels@a8.net', 'chalsteadt@amazon.de', 'gkarolowskiu@narod.ru', 'smundeev@nsw.gov.au', 'aoldershaww@so-net.ne.jp', 'bmattusevichx@foxnews.com', 'abohlensy@nih.gov', 'hbraidwoodz@amazon.com', 'hsudron10@nps.gov', 'jvanbrugh11@cocolog-nifty.com', 'hlightollers12@comsenz.com', 'egoodhand13@tripadvisor.com', 'glewerenz14@about.me', 'tlewson15@marriott.com', 'ksainteau16@ning.com', 'evedekhov17@jiathis.com', 'hcrenshaw18@github.io', 'ksoppitt19@cdc.gov', 'fsivess1a@free.fr', 'astranio1b@latimes.com', 'lerni1c@dailymotion.com', 'pbatson1d@vimeo.com', 'scawthry1e@youtu.be', 'kkellock1f@japanpost.jp', 'lsmouten1g@noaa.gov', 'esore1h@wikia.com', 'pchsteney1i@msn.com', 'eeddies1j@disqus.com', 'dendicott1k@buzzfeed.com', 'mmasse1l@vkontakte.ru', 'gdrains1m@samsung.com', 'rteaz1n@issuu.com', 'hnorthey1o@hostgator.com', 'clebretondelavieuville1p@sfgate.com', 'lallbones1q@reddit.com', 'djeduch1r@ovh.net', 'iandriolli1s@ucoz.com', 'fcruickshanks1t@lulu.com', 'spinnock1u@hc360.com', 'lsnazel1v@smh.com.au', 'psells1w@booking.com', 'sdougal1x@cbc.ca', 'bhallwell1y@usnews.com', 'krecke1z@microsoft.com', 'cdorricott20@cbslocal.com', 'pbartolijn21@biblegateway.com', 'khefford22@t.co', 'lissacof23@dagondesign.com', 'rlaybourn24@nasa.gov', 'ogiacomuzzo25@alibaba.com', 'cdorsay26@home.pl', 'hfakeley27@blogger.com', 'emorilla28@ycombinator.com', 'aeastmead29@soundcloud.com', 'kblooman2a@imgur.com', 'ssessions2b@bizjournals.com', 'wdodshon2c@tinypic.com', 'nraiston2d@nydailynews.com', 'mdoche2e@microsoft.com', 'jmazey2f@naver.com', 'krojahn2g@delicious.com', 'lfrazier2h@i2i.jp', 'fjarville2i@si.edu', 'scragg2j@naver.com', 'mkennewell2k@virginia.edu', 'tbradie2l@merriam-webster.com', 'fdrought2m@goo.gl', 'bguiel2n@time.com', 'mvanyukov2o@discovery.com', 'rstribbling2p@wiley.com', 'fgiuron2q@storify.com', 'abristowe2r@live.com', 'gmagenny2s@flavors.me', 'kcrosse2t@bluehost.com', 'bbubb2u@dailymail.co.uk', 'crubinowicz2v@europa.eu', 'kprestidge2w@bing.com', 'pdary2x@redcross.org', 'afibbens2y@whitehouse.gov', 'spawsey2z@zimbio.com', 'jwalak30@dedecms.com', 'avasilyonok31@blogspot.com', 'astammer32@vimeo.com', 'agravatt33@1und1.de', 'ofendlow34@tuttocitta.it', 'bpurvey35@dell.com', 'mfeechan36@last.fm', 'lreaveley37@wp.com', 'tcastro38@gov.uk', 'mmacnair39@archive.org', 'hmacfarlane3a@facebook.com', 'fmoizer3b@scientificamerican.com', 'mderby3c@ask.com', 'ctomet3d@timesonline.co.uk', 'bmacgowan3e@squarespace.com', 'ericcardelli3f@sciencedaily.com', 'uchevers3g@surveymonkey.com', 'jspitell3h@wordpress.com', 'msnelling3i@php.net', 'cmoxon3j@usda.gov', 'cmurdie3k@biblegateway.com', 'kdanshin3l@linkedin.com', 'ihartup3m@amazon.de', 'dcargon3n@usda.gov', 'ctosh3o@list-manage.com', 'hszymoni3p@angelfire.com', 'ftregian3q@shutterfly.com', 'cjacquemy3r@berkeley.edu', 'spittham3s@ibm.com', 'karnow3t@seesaa.net', 'cmonier3u@harvard.edu', 'tpadbery3v@woothemes.com', 'hsheran3w@spiegel.de', 'hclempton3x@google.co.uk', 'ghelling3y@discuz.net', 'ecarff3z@tinyurl.com', 'thowler40@thetimes.co.uk', 'wjanc41@nhs.uk', 'aupsale42@hc360.com', 'kmuirhead43@hatena.ne.jp', 'jbohje44@livejournal.com', 'jkopacek45@deviantart.com', 'iloveday46@aboutads.info', 'eyanez47@ft.com', 'uaven48@fema.gov', 'aclausenthue49@latimes.com', 'kclew4a@pagesperso-orange.fr', 'fcottham4b@hc360.com', 'amundy4c@ftc.gov', 'adimelow4d@tamu.edu', 'eraithbie4e@elegantthemes.com', 'tgunstone4f@yahoo.co.jp', 'tkaret4g@slideshare.net', 'cnaismith4h@privacy.gov.au', 'cbirchenhead4i@multiply.com', 'tcouser4j@google.nl', 'tkimbell4k@phoca.cz', 'jmarran4l@harvard.edu', 'mnoble4m@mayoclinic.com', 'rnorthrop4n@wikimedia.org', 'pthompkins4o@shinystat.com', 'apyffe4p@economist.com', 'kmackniely4q@dailymail.co.uk', 'mwycliffe4r@squarespace.com', 'lflawith4s@theglobeandmail.com', 'mfodden4t@smugmug.com', 'pabramow4u@github.io', 'lsames4v@slideshare.net', 'kjinkins4w@list-manage.com', 'cbramich4x@youku.com', 'cmacturlough4y@zimbio.com', 'clademann4z@meetup.com', 'tnye50@merriam-webster.com', 'chiggan51@deliciousdays.com', 'fcasarini52@jugem.jp', 'afeechan53@ftc.gov', 'gsynder54@eventbrite.com', 'avarley55@wikimedia.org', 'rheavens56@nifty.com', 'ehounsham57@intel.com', 'fpither58@stumbleupon.com', 'carkell59@java.com', 'ksaddington5a@cloudflare.com', 'dwoolatt5b@addthis.com', 'lluchetti5c@posterous.com', 'bvile5d@myspace.com', 'giddison5e@youtube.com', 'kkerne5f@bigcartel.com', 'czannutti5g@behance.net', 'sramelot5h@smugmug.com', 'kcowoppe5i@cam.ac.uk', 'lhotchkin5j@google.co.uk', 'jkoba5k@hao123.com', 'thamlyn5l@wikimedia.org', 'nkwietek5m@edublogs.org', 'ddonet5n@sciencedirect.com', 'apeggs5o@huffingtonpost.com', 'rheijnen5p@4shared.com', 'lserrier5q@hibu.com', 'nwitch5r@quantcast.com', 'mcurr5s@cyberchimps.com', 'mwhiteson5t@cocolog-nifty.com', 'desmonde5u@addtoany.com', 'sstachini5v@dyndns.org', 'eroman5w@elegantthemes.com', 'emacartney5x@elegantthemes.com', 'lbigglestone5y@mit.edu', 'cyounghusband5z@jiathis.com', 'bcottham60@soundcloud.com', 'mtudor61@squarespace.com', 'coronan62@techcrunch.com', 'aairds63@drupal.org', 'rsazio64@zimbio.com', 'tscotti65@hc360.com', 'gmilligan66@ustream.tv', 'adiben67@ucoz.com', 'ebruni68@army.mil', 'cblenkiron69@com.com', 'jjiruch6a@topsy.com', 'mnorthwood6b@mozilla.com', 'jdalliston6c@tinyurl.com', 'jlyburn6d@networkadvertising.org', 'ycastagneri6e@discovery.com', 'mchrystal6f@blogs.com', 'hklimshuk6g@weather.com', 'cmardall6h@photobucket.com', 'svoyce6i@linkedin.com', 'gcrayden6j@1und1.de', 'fgiblin6k@vk.com', 'dbelamy6l@amazon.co.jp', 'rwratten6m@seattletimes.com', 'fsorrie6n@nationalgeographic.com', 'edulwitch6o@sourceforge.net', 'drafe6p@issuu.com', 'djahan6q@salon.com', 'gskuce6r@yale.edu', 'heastmond6s@geocities.jp', 'mmckirdy6t@drupal.org', 'hhadley6u@yelp.com', 'wwilletts6v@nhs.uk', 'lbagnal6w@yahoo.co.jp', 'hfairey6x@biglobe.ne.jp', 'ehamshere6y@freewebs.com', 'etows6z@quantcast.com', 'vgunning70@infoseek.co.jp', 'bmargeram71@php.net', 'ozecchii72@sfgate.com', 'djindra73@jigsy.com', 'sstollsteimer74@mysql.com', 'bjahnig75@bigcartel.com', 'nselliman76@istockphoto.com', 'ctidcomb77@linkedin.com', 'bhaquin78@cdbaby.com', 'cdosedale79@barnesandnoble.com', 'gwanden7a@purevolume.com', 'mshevlan7b@surveymonkey.com', 'sbutterfint7c@redcross.org', 'obleier7d@posterous.com', 'santoniades7e@salon.com', 'ktreswell7f@kickstarter.com', 'msanto7g@paypal.com', 'mwheeliker7h@dedecms.com', 'awozencraft7i@meetup.com', 'bpetrello7j@latimes.com', 'momalley7k@adobe.com', 'kmacmanus7l@hc360.com', 'eclother7m@bigcartel.com', 'ojanus7n@imageshack.us', 'enegri7o@merriam-webster.com', 'mwesson7p@bizjournals.com', 'tbullivent7q@dyndns.org', 'bscrivener7r@mtv.com', 'rshirlaw7s@ask.com', 'ecruttenden7t@skyrock.com', 'iterron7u@spiegel.de', 'mgarritley7v@nyu.edu', 'tdeave7w@exblog.jp', 'salesi7x@chron.com', 'eaustick7y@kickstarter.com', 'hdowall7z@example.com', 'eglisane80@nyu.edu', 'bmarchenko81@twitpic.com', 'oletchmore82@indiatimes.com', 'hhorsley83@forbes.com', 'fgartan84@si.edu', 'gcattrell85@state.gov', 'vsinnott86@constantcontact.com', 'oreichert87@etsy.com', 'cmeadowcroft88@ihg.com', 'mneathway89@topsy.com', 'lsidry8a@livejournal.com', 'gburr8b@apple.com', 'dgitting8c@delicious.com', 'llinnock8d@tripod.com', 'lannear8e@uiuc.edu', 'fwinslade8f@angelfire.com', 'smcgeady8g@disqus.com', 'mfordyce8h@deliciousdays.com', 'wwiddall8i@dyndns.org', 'mledford8j@taobao.com', 'cwhiskerd8k@fema.gov', 'clewton8l@geocities.com', 'rfitzsymons8m@addthis.com', 'ccanton8n@unicef.org', 'cthowless8o@uiuc.edu', 'tvasyanin8p@issuu.com', 'linsoll8q@wsj.com', 'jholbie8r@twitter.com', 'aharm8s@ucsd.edu', 'driccetti8t@pinterest.com', 'ebowdrey8u@alexa.com', 'kcritcher8v@feedburner.com', 'cgrowden8w@wikia.com', 'bcaff8x@army.mil', 'fwarburton8y@who.int', 'mferby8z@amazonaws.com', 'tmacpaik90@archive.org', 'ttwiggs91@123-reg.co.uk', 'tvenny92@alibaba.com', 'dverrick93@goodreads.com', 'agligoraci94@harvard.edu', 'binnman95@go.com', 'ssherland96@de.vu', 'nbarnard97@nsw.gov.au', 'kjamary98@disqus.com', 'emingardi99@blogtalkradio.com', 'emeegan9a@virginia.edu', 'bgribbins9b@odnoklassniki.ru', 'agerge9c@cdc.gov', 'mharcus9d@zimbio.com', 'nmessiter9e@linkedin.com', 'hdrewry9f@tuttocitta.it', 'mandras9g@yellowbook.com', 'ghebbes9h@gnu.org', 'shurt9i@goo.gl', 'sblumson9j@yelp.com', 'bfashion9k@ning.com', 'gbestiman9l@timesonline.co.uk', 'rmacieja9m@cdc.gov', 'rhush9n@nymag.com', 'lgabbotts9o@unicef.org', 'pthickins9p@facebook.com', 'mdenny9q@yandex.ru', 'fcuthbertson9r@narod.ru', 'smcmychem9s@ow.ly', 'lchivers9t@cpanel.net', 'dwoodhouse9u@163.com', 'ddower9v@engadget.com', 'abaker9w@spiegel.de', 'bocrevan9x@cam.ac.uk', 'smcgrill9y@ocn.ne.jp', 'mbirbeck9z@e-recht24.de', 'lmcguinnessa0@facebook.com', 'bvondracha1@xrea.com', 'nfinbya2@cyberchimps.com', 'fbrunta3@earthlink.net', 'gcabralesa4@netlog.com', 'rkenneya5@mapquest.com', 'relderbranta6@geocities.com', 'mkaspara7@eventbrite.com', 'bmayalla8@bluehost.com', 'cikringilla9@angelfire.com', 'eyakushkevaa@instagram.com', 'csainzab@wordpress.org', 'tslimmeac@wp.com', 'fpettoad@auda.org.au', 'eschlagae@blogs.com', 'rcootaf@elegantthemes.com', 'cterryag@list-manage.com', 'djirkaah@people.com.cn', 'kgrigolettiai@goo.gl', 'bcolbeckaj@plala.or.jp', 'wgopsallak@bing.com', 'vbainbridgeal@skyrock.com', 'lcollingwortham@mashable.com', 'kcusworthan@ameblo.jp', 'ldomeniconeao@mail.ru', 'fdrillingcourtap@toplist.cz', 'kdilowayaq@cdbaby.com', 'cbeveredgear@netvibes.com', 'mmarchamas@cafepress.com', 'smiskimmonat@vimeo.com', 'asciussciettoau@qq.com', 'csatchav@microsoft.com', 'crowlandsaw@prweb.com', 'rmckennanax@spotify.com', 'jfollacaroay@shop-pro.jp', 'dbaddamaz@wp.com', 'lrankmoreb0@reddit.com', 'tiglesiab1@ft.com', 'cboyseb2@vk.com', 'gcronkshawb3@dailymail.co.uk', 'aortsmannb4@skype.com', 'jlarrettb5@twitpic.com', 'jshewanb6@scribd.com', 'lstauntonb7@hhs.gov', 'ytockellb8@moonfruit.com', 'gwattersonb9@simplemachines.org', 'edoughartieba@reverbnation.com', 'lnicebb@nydailynews.com', 'jslanebc@youku.com', 'oakersbd@macromedia.com', 'mtomkinsonbe@harvard.edu', 'sarseybf@newyorker.com', 'vlinnockbg@ftc.gov', 'ifleemanbh@netvibes.com', 'omottebi@de.vu', 'fvasenkovbj@blogger.com', 'sderksbk@netvibes.com', 'jmaccallionbl@abc.net.au', 'marminbm@ucla.edu', 'mfeaveerbn@chron.com', 'mgordgebo@marriott.com', 'atrowlerbp@dailymotion.com', 'whumanbq@earthlink.net', 'bmuglestonebr@icio.us', 'shegdonnebs@wufoo.com', 'tkelsellbt@google.cn', 'pathersmithbu@theglobeandmail.com', 'hbengtsenbv@cbslocal.com', 'ldebruijnebw@mediafire.com', 'lmaccardbx@weibo.com', 'ecolleerby@comcast.net', 'ckuhnhardtbz@google.ru', 'mwalbrookc0@ning.com', 'cbelonec1@nhs.uk', 'cbruc2@abc.net.au', 'mrevenc3@technorati.com', 'schaveyc4@deviantart.com', 'amossopc5@cnn.com', 'aevershedc6@scientificamerican.com', 'aorthc7@apache.org', 'ocodlinc8@npr.org', 'bchanterc9@youtube.com', 'fcochca@cocolog-nifty.com', 'dlackeyecb@creativecommons.org', 'vstaleycc@drupal.org', 'rpersecd@booking.com', 'lhuetsonce@shutterfly.com', 'sianellicf@edublogs.org', 'ycreebocg@boston.com', 'rsurgeonch@so-net.ne.jp', 'tgoodaci@google.com.au', 'medelstoncj@uol.com.br', 'lenglefieldck@google.com.au', 'rbalsercl@yelp.com', 'ganandcm@fema.gov', 'psharpleycn@indiegogo.com', 'tbriggdaleco@last.fm', 'spovelecp@taobao.com', 'bvallerinecq@devhub.com', 'hstripplingcr@phpbb.com', 'dblewittcs@tinyurl.com', 'abertrandct@oakley.com', 'arowbottomcu@twitpic.com', 'mfidellicv@salon.com', 'fhovecw@simplemachines.org', 'ecorballycx@census.gov', 'cmccombecy@taobao.com', 'prehmecz@seesaa.net', 'ssciussciettod0@topsy.com', 'zmacmenemyd1@seattletimes.com', 'alabeld2@w3.org', 'cscogind3@upenn.edu', 'sobernd4@eventbrite.com', 'pgadied5@prnewswire.com', 'ehoyerd6@booking.com', 'davod7@lulu.com', 'egiraldod8@wired.com', 'blowdwelld9@weibo.com', 'fbackshallda@constantcontact.com', 'briochdb@pagesperso-orange.fr', 'wribbensdc@house.gov', 'agriffindd@geocities.com', 'dbarnardde@uol.com.br', 'ldrillingcourtdf@springer.com', 'rbaintondg@wix.com', 'ehammersondh@clickbank.net', 'dhancoxdi@ucoz.ru', 'jhounsomdj@squarespace.com', 'bcraindk@lulu.com', 'aroycroftdl@blog.com', 'gsouthcottdm@tmall.com', 'bjoseferdn@paypal.com', 'dparkeydo@lycos.com', 'nolyhanedp@wunderground.com', 'ggelliondq@amazon.de', 'lfoucherdr@istockphoto.com', 'lbonomeds@wikispaces.com', 'tcritchleydt@cbsnews.com', 'jtomasellidu@free.fr', 'jbourgourddv@skyrock.com', 'aholdeydw@xinhuanet.com', 'slyosikdx@360.cn', 'gbandtdy@ocn.ne.jp', 'pvasyukhichevdz@illinois.edu', 'hcreggane0@amazon.co.uk', 'rdodridgee1@github.io', 'cdunkleee2@webs.com', 'tbroomhalle3@loc.gov', 'ghackine4@comsenz.com', 'nduredene5@comsenz.com', 'celgoode6@shutterfly.com', 'tlatoree7@home.pl', 'fbulloche8@hhs.gov', 'kdande9@sphinn.com', 'fricholdea@privacy.gov.au', 'walmondeb@hud.gov', 'lelcombec@amazon.co.jp', 'ggarnsworthed@google.es', 'tlabonee@cyberchimps.com', 'rcomellief@bravesites.com', 'cjikyllseg@xinhuanet.com', 'nwhostoneh@jigsy.com', 'lalthorpei@marriott.com', 'dmessengerej@meetup.com', 'vriddellek@nhs.uk', 'wshaplinel@phoca.cz', 'ssisnerosem@cnbc.com', 'broglieroen@ebay.co.uk', 'ascottereo@ifeng.com', 'cswainsonep@yahoo.com', 'lkerswilleq@redcross.org', 'whadnyer@seesaa.net', 'gtryhornes@bbc.co.uk', 'astaddenet@youtu.be', 'dplessingeu@gnu.org', 'tfargeev@icio.us', 'cmacbainew@phpbb.com', 'lbrocketex@barnesandnoble.com', 'lbielbyey@studiopress.com', 'kchewez@sun.com', 'clismoref0@flavors.me', 'dbaldettif1@booking.com', 'sschimkef2@apple.com', 'lmeneyerf3@loc.gov', 'alarderf4@tamu.edu', 'gmcquadef5@nbcnews.com', 'pcharterisf6@si.edu', 'chardwickf7@whitehouse.gov', 'pcoakleyf8@walmart.com', 'cverriourf9@youku.com', 'cyurmanovevfa@indiatimes.com', 'bhawkshawfb@weather.com', 'cdreakinfc@homestead.com', 'rsperringfd@gravatar.com', 'acovinofe@w3.org', 'jyesenevff@stanford.edu', 'tdemseyfg@house.gov', 'etidmanfh@i2i.jp', 'myandlefi@addthis.com', 'lconboyfj@spotify.com', 'bagassfk@virginia.edu', 'giacovinofl@ucla.edu', 'gshenleyfm@symantec.com', 'dkempefn@stanford.edu', 'pselbornefo@cdbaby.com', 'mtanguyfp@purevolume.com', 'jabbessfq@wikipedia.org', 'ldytonfr@sakura.ne.jp', 'hdahlbackfs@cisco.com', 'wcrannachft@economist.com', 'hreinischfu@usatoday.com', 'mstraingefv@who.int', 'mrayerfw@4shared.com', 'mcostenfx@npr.org', 'crosenfeltfy@cbc.ca', 'wvongrollmannfz@soup.io', 'lpopleg0@dell.com', 'ccluetg1@illinois.edu', 'bbuistg2@hao123.com', 'acreedlandg3@addtoany.com', 'efahyg4@washington.edu', 'awightmang5@flickr.com', 'atowlg6@nifty.com', 'vthirwellg7@php.net', 'kroafg8@exblog.jp', 'ekleinzweigg9@blogs.com', 'rburgisga@economist.com', 'kgrinhamgb@live.com', 'jganleygc@clickbank.net', 'lsircombegd@ebay.com', 'jonionge@blogger.com', 'hsugggf@webeden.co.uk', 'nsinncockgg@google.fr', 'opaffotgh@newyorker.com', 'erosellinigi@dot.gov', 'lhowsingj@umich.edu', 'nslaymakergk@springer.com', 'wmuzzinigl@wikispaces.com', 'lgerokgm@zimbio.com', 'amcilhaggagn@indiatimes.com', 'cjuanesgo@clickbank.net', 'lbernaertgp@usatoday.com', 'cnastgq@eventbrite.com', 'dgrigoiregr@angelfire.com', 'ntuttiettgs@com.com', 'gpauleaugt@noaa.gov', 'cmccomiskeygu@wufoo.com', 'yheynelgv@archive.org', 'pherculesongw@jigsy.com', 'calesbrookgx@nifty.com', 'nedmensongy@addthis.com', 'ngreeninggz@usnews.com', 'aprettymanh0@ucoz.ru', 'nclothierh1@skyrock.com', 'rsillyh2@techcrunch.com', 'kcasemoreh3@webnode.com', 'wdefriesh4@japanpost.jp', 'lerringtonh5@bandcamp.com', 'wbrechinh6@dailymail.co.uk', 'sboggishh7@ox.ac.uk', 'jvarnsh8@mtv.com', 'ncalleyh9@wordpress.org', 'vyurenevha@cargocollective.com', 'crockhallhb@unc.edu', 'nkimberleyhc@chronoengine.com', 'gjoselsonhd@e-recht24.de', 'rbushawayhe@hp.com', 'gdundredgehf@skyrock.com', 'pmcaleesehg@networksolutions.com', 'epeterkenhh@nba.com', 'uschermickhi@photobucket.com', 'mosbanhj@cafepress.com', 'ediggeshk@trellian.com', 'knorehl@vinaora.com', 'jphlippsenhm@jigsy.com', 'wklasenhn@kickstarter.com', 'arollingsonho@privacy.gov.au', 'shuglihp@engadget.com', 'nlesekhq@technorati.com', 'adenisevichhr@merriam-webster.com', 'bmeritths@sogou.com', 'econstanzaht@dailymail.co.uk', 'djandourekhu@dell.com', 'edaleshv@skype.com', 'jodonovanhw@wired.com', 'athumnelhx@hao123.com', 'aalletthy@accuweather.com', 'emargremhz@nymag.com', 'ddarcyi0@google.pl', 'bcracknelli1@shop-pro.jp', 'ccaldicoti2@yahoo.co.jp', 'droasti3@dell.com', 'bconichiei4@nasa.gov', 'kkayi5@omniture.com', 'kbitchenoi6@msu.edu', 'lcastellettii7@msu.edu', 'mmacdermotti8@wordpress.org', 'chaggathi9@cnn.com', 'cswidenbankia@ed.gov', 'rsambiedgeib@yolasite.com', 'aayceic@mail.ru', 'sdaunterid@huffingtonpost.com', 'nwinksie@com.com', 'cvonbrookif@sakura.ne.jp', 'lbuckbyig@intel.com', 'bbleacklyih@ucsd.edu', 'acollocottii@huffingtonpost.com', 'pturesij@soundcloud.com', 'ibroxtonik@about.me', 'bfolbigeil@blogtalkradio.com', 'ndaylyim@pcworld.com', 'lshilitonin@apple.com', 'mlambellio@youku.com', 'gmccartip@jalbum.net', 'aspeendeniq@ucoz.ru', 'jsatterthwaiteir@drupal.org', 'lhadcockis@theguardian.com', 'ppamplingit@lycos.com', 'ktoaliu@noaa.gov', 'bmeryettiv@wufoo.com', 'hcowburniw@ihg.com', 'brawlsix@opensource.org', 'gecclesalliy@squidoo.com', 'dglasscoeiz@liveinternet.ru', 'rcolerickj0@edublogs.org', 'frudingerj1@shop-pro.jp', 'cdurramj2@google.com.hk', 'gbellenyj3@acquirethisname.com', 'adenzilowj4@ustream.tv', 'ccarvillej5@php.net', 'mgarshorej6@dagondesign.com', 'jheadinghamj7@trellian.com', 'jsaxtonj8@redcross.org', 'vrobbertsj9@europa.eu', 'fstockowja@cloudflare.com', 'fhengoedjb@china.com.cn', 'dgresserjc@unc.edu', 'hmaddenjd@jalbum.net', 'hluigije@businesswire.com', 'ecorballyjf@accuweather.com', 'tmcfarlanjg@techcrunch.com', 'dsawbridgejh@imgur.com', 'ctimoneyji@cnn.com', 'mdenchjj@hao123.com', 'pmillimoejk@netlog.com', 'jpettiwardjl@wix.com', 'mhendrixjm@nature.com', 'mhansjn@clickbank.net', 'bdesousajo@weather.com', 'fkuhljp@nationalgeographic.com', 'cedgecombejq@apache.org', 'cpinckardjr@typepad.com', 'abillisonjs@gmpg.org', 'jellacottjt@geocities.jp', 'cshepstoneju@godaddy.com', 'bdebankejv@shareasale.com', 'dhaugjw@blogspot.com', 'kduigenanjx@a8.net', 'brattenberiejy@nature.com', 'atrevarthenjz@tinyurl.com', 'jmatyushonokk0@liveinternet.ru', 'bdixceyk1@china.com.cn', 'bpoxonk2@usatoday.com', 'mbyattk3@gnu.org', 'jstrassek4@stumbleupon.com', 'sjelkk5@loc.gov', 'vlandrickk6@mysql.com', 'pkryszkak7@biglobe.ne.jp', 'bsaffillk8@people.com.cn', 'ncrudgintonk9@ihg.com', 'trobilartka@bigcartel.com', 'ltomovickb@ameblo.jp', 'rstablekc@washington.edu', 'cmunniskd@examiner.com', 'jbeesleyke@imageshack.us', 'rcawtheraykf@gmpg.org', 'bvlasenkokg@omniture.com', 'jchartmankh@miitbeian.gov.cn', 'dalduski@vkontakte.ru', 'cmcilvaneykj@wisc.edu', 'trayekk@wikispaces.com', 'ijuppkl@squarespace.com', 'astockingkm@unicef.org', 'ijewisekn@clickbank.net', 'plackingtonko@clickbank.net', 'nhagertykp@webs.com', 'dgowlingkq@state.gov', 'fburneskr@reverbnation.com', 'tfawleyks@reddit.com', 'rsurrkt@icio.us', 'snaisbitku@tuttocitta.it', 'phalsokv@taobao.com', 'dapthorpekw@360.cn', 'tmilnerkx@homestead.com', 'sstewartsonky@studiopress.com', 'ukeddiekz@acquirethisname.com', 'pfydoel0@cyberchimps.com', 'msounessl1@xinhuanet.com', 'mhamell2@uol.com.br', 'kkeggl3@loc.gov', 'twyattl4@ted.com', 'wroomsl5@e-recht24.de', 'ebocockl6@wunderground.com', 'blutzl7@deliciousdays.com', 'adohmerl8@salon.com', 'eruminl9@scientificamerican.com', 'aburleyla@newyorker.com', 'sodelllb@goo.gl', 'ktillyerlc@globo.com', 'wdonild@epa.gov', 'rdotterillle@msn.com', 'amacmarcuislf@over-blog.com', 'srunacreslg@mail.ru', 'bgorringelh@sitemeter.com', 'bkittemanli@pcworld.com', 'amahonylj@phoca.cz', 'sdilowaylk@mozilla.com', 'ndysertll@hexun.com', 'ehartmanlm@fc2.com', 'maugustineln@geocities.jp', 'sspalllo@yahoo.com', 'isherrattlp@domainmarket.com', 'dmccaigheylq@opera.com', 'rmcgowranlr@scribd.com', 'dhailwoodls@ocn.ne.jp', 'dsaccolt@opera.com', 'tlidierthlu@bloomberg.com', 'qdeweylv@theglobeandmail.com', 'jchucklw@unblog.fr', 'tdennicklx@webnode.com', 'mbruslely@phpbb.com', 'cescotlz@deviantart.com', 'esouthgatem0@si.edu', 'gdelepinem1@parallels.com', 'pberanekm2@vk.com', 'ajadosm3@mozilla.org', 'hdragonettem4@slideshare.net', 'bmellhuishm5@psu.edu', 'ctomaskunasm6@friendfeed.com', 'awollardm7@sciencedirect.com', 'abruckmanm8@naver.com', 'tmcmeartym9@lycos.com', 'bkyngema@nih.gov', 'igillfordmb@fotki.com', 'mmoundmc@soup.io', 'sdaudraymd@cyberchimps.com', 'wdegliantonime@unc.edu', 'kbagniukmf@xrea.com', 'tdoylandmg@friendfeed.com', 'dcrosskellmh@taobao.com', 'hquademi@ucoz.com', 'jkittemanmj@smugmug.com', 'clockartmk@yale.edu', 'dmacanelleyml@nasa.gov', 'ytattershallmm@spiegel.de', 'jipplettmn@spotify.com', 'amacmychemmo@newsvine.com', 'pwortmanmp@theguardian.com', 'lscinimq@newsvine.com', 'ghuckabemr@angelfire.com', 'nharrismithms@naver.com', 'dbowrymt@mozilla.com', 'cmaundersmu@tripod.com', 'fdemarcomv@moonfruit.com', 'zsparrowhawkmw@vimeo.com', 'imillmx@yahoo.co.jp', 'gdorsettmy@unesco.org', 'plundymz@yandex.ru', 'aducareln0@yolasite.com', 'cgodingn1@businessweek.com', 'sclifftn2@businesswire.com', 'cjoslandn3@skyrock.com', 'mfurphyn4@irs.gov', 'ngarcian5@indiegogo.com', 'npatrickn6@deliciousdays.com', 'kbusbyn7@fastcompany.com', 'erosensteinn8@geocities.com', 'jstpauln9@blogspot.com', 'ctruinna@homestead.com', 'akopfnb@prlog.org', 'sbarnishnc@twitter.com', 'gdumbltonnd@opensource.org', 'asielyne@imdb.com', 'cmichenf@amazon.co.jp', 'cpolsonng@shop-pro.jp', 'smarriagenh@devhub.com', 'bkonkeni@slate.com', 'eglosternj@webmd.com', 'btsarovicnk@cnbc.com', 'mdevoynl@cloudflare.com', 'sgodfraynm@google.com.au', 'fdasparnn@photobucket.com', 'dcavesno@businessweek.com', 'cwortersnp@lulu.com', 'ggoodlucknq@epa.gov', 'lskinnernr@cnet.com', 'nemmanuelens@drupal.org', 'smcclenannt@theguardian.com', 'lstlegernu@ezinearticles.com', 'igieroknv@apache.org', 'wsprowellnw@wikimedia.org', 'kboldrynx@fc2.com', 'khexamny@nbcnews.com', 'ttileynz@cam.ac.uk', 'ltrainoro0@gmpg.org', 'mcustyo1@vkontakte.ru', 'odelahunto2@naver.com', 'davrahamyo3@google.nl', 'cdiclaudioo4@hc360.com', 'jwillimoto5@google.it', 'hmacinherneyo6@yolasite.com', 'tpoppyo7@trellian.com', 'mmatyugino8@so-net.ne.jp', 'kkneeboneo9@techcrunch.com', 'rtollerfieldoa@ning.com', 'awoolfordob@yellowbook.com', 'rshearwoodoc@nifty.com', 'mvaleriood@biblegateway.com', 'svaulkhardoe@is.gd', 'rpembleof@state.gov', 'awaseog@java.com', 'yhurranoh@flickr.com', 'mkegleyoi@xrea.com', 'ckerrichoj@trellian.com', 'llangshawok@va.gov', 'dgoulbornol@whitehouse.gov', 'jkieltom@java.com', 'rnormabellon@seattletimes.com', 'wleppingtonoo@people.com.cn', 'rfarnworthop@printfriendly.com', 'rmoncarroq@mayoclinic.com', 'lwarrillowor@geocities.jp', 'mcounihanos@rambler.ru', 'jatkirkot@tinyurl.com', 'ahuckerbeou@go.com', 'wmeynellov@joomla.org', 'ihuskow@cloudflare.com', 'atarbetox@pbs.org', 'ccloneyoy@shutterfly.com', 'lspittlesoz@deviantart.com', 'bchampp0@sitemeter.com', 'gbleasp1@joomla.org', 'fbonehillp2@prnewswire.com', 'ptsarovicp3@mayoclinic.com', 'dfenwickp4@economist.com', 'ctilmouthp5@jimdo.com', 'acausticp6@tripod.com', 'mbasilp7@altervista.org', 'ofeirnp8@aol.com', 'gwinsborrowp9@theguardian.com', 'nglidderpa@oracle.com', 'dthwaitespb@ning.com', 'ttatersalepc@cam.ac.uk', 'dkiebespd@blog.com', 'dclemmeype@linkedin.com', 'csustonpf@blogger.com', 'fcollspg@prlog.org', 'themeretph@issuu.com', 'kbetserpi@usatoday.com', 'adalliganpj@guardian.co.uk', 'jbrightiepk@desdev.cn', 'hlockettpl@wsj.com', 'dandreoupm@wsj.com', 'dbletsorpn@weather.com', 'lshorttpo@joomla.org', 'gdibiagipp@baidu.com', 'drowantreepq@chicagotribune.com', 'tmonnoyerpr@ucla.edu', 'lpannerps@phoca.cz', 'fmckailept@webs.com', 'travelpu@webmd.com', 'lmoizerpv@dagondesign.com', 'ableesingpw@uiuc.edu', 'dhowtonpx@yahoo.co.jp', 'despositapy@tuttocitta.it', 'vleggingpz@alexa.com', 'kingeq0@w3.org', 'ehobsonq1@simplemachines.org', 'aeelesq2@example.com', 'astockdaleq3@blogger.com', 'ctonerq4@clickbank.net', 'cyanyushkinq5@mozilla.com', 'koconcannonq6@pen.io', 'cdaddowq7@flickr.com', 'aantonsenq8@whitehouse.gov', 'pcahalinq9@moonfruit.com', 'aspybyqa@twitpic.com', 'kwoolgarqb@examiner.com', 'wprangerqc@ca.gov', 'jyglesiaqd@devhub.com', 'pkinlochqe@reference.com', 'stownshendqf@livejournal.com', 'knunnqg@yellowbook.com', 'mtrevesqh@cyberchimps.com', 'priglarqi@princeton.edu', 'srubanenkoqj@narod.ru', 'kananqk@bigcartel.com', 'mwallql@who.int', 'cwingerqm@infoseek.co.jp', 'ssmillieqn@so-net.ne.jp', 'tgriceqo@elegantthemes.com', 'hcurneenqp@hostgator.com', 'dhubeauxqq@twitpic.com', 'ezwickerqr@ucla.edu', 'dmarrowqs@e-recht24.de', 'friolfiqt@macromedia.com', 'rilyukhovqu@jigsy.com', 'mmckallqv@odnoklassniki.ru', 'cportinariqw@parallels.com', 'thavocqx@japanpost.jp', 'rjocicqy@odnoklassniki.ru', 'toloughnanqz@bloglines.com', 'dasletr0@t.co', 'wsabbertonr1@cocolog-nifty.com', 'gberkeryr2@last.fm', 'rberther3@omniture.com', 'rsearsonr4@rambler.ru', 'kpolsonr5@chron.com', 'agrigorinir6@bloglines.com', 'tthoumassonr7@bloglines.com', 'fickovitzr8@oakley.com', 'btryer9@parallels.com', 'hshearstonra@clickbank.net', 'pdrewcliftonrb@nsw.gov.au', 'tkindellrc@amazonaws.com', 'bspeermanrd@blogger.com', 'jlinere@pinterest.com', 'etremathackrf@github.io', 'cgladdisrg@hp.com', 'gnillesrh@usgs.gov', 'btomczynskiri@toplist.cz', 'bsheavillsrj@biblegateway.com', 'amarvelleyrk@miibeian.gov.cn', 'lluxfordrl@redcross.org', 'gwakerleyrm@disqus.com', 'pjeffrn@4shared.com', 'pwarstallro@dropbox.com', 'wvannuccinirp@tuttocitta.it', 'gpetrashkovrq@hostgator.com', 'sfrancescrr@cyberchimps.com']\n"
     ]
    }
   ],
   "source": [
    "#extract info\n",
    "all_emails = []\n",
    "for line in data_lines[1:]:\n",
    "    all_emails.append(line[3])\n",
    "print (all_emails)"
   ]
  },
  {
   "cell_type": "code",
   "execution_count": 23,
   "id": "53810639",
   "metadata": {},
   "outputs": [],
   "source": [
    "#extract fullname\n",
    "full_names = []\n",
    "\n",
    "for line in data_lines[1:15]:\n",
    "    full_names.append(line[1]+' '+line[2])"
   ]
  },
  {
   "cell_type": "code",
   "execution_count": 24,
   "id": "6c56667d",
   "metadata": {},
   "outputs": [
    {
     "data": {
      "text/plain": [
       "['Joseph Zaniolini',\n",
       " 'Freida Drillingcourt',\n",
       " 'Nanni Herity',\n",
       " 'Orazio Frayling',\n",
       " 'Julianne Murrison',\n",
       " 'Lucy Gamet',\n",
       " 'Dyana Howatt',\n",
       " 'Kassey Herion',\n",
       " 'Chrissy Hedworth',\n",
       " 'Hyatt Gasquoine',\n",
       " 'Felicdad Tarr',\n",
       " 'Andrew Bath',\n",
       " 'Lucais Chastang',\n",
       " 'Car Cerie']"
      ]
     },
     "execution_count": 24,
     "metadata": {},
     "output_type": "execute_result"
    }
   ],
   "source": [
    "full_names"
   ]
  },
  {
   "cell_type": "code",
   "execution_count": 40,
   "id": "d7b86d76",
   "metadata": {},
   "outputs": [],
   "source": [
    "#Writing to CSV Files\n",
    "# newline controls how universal newlines works (it only applies to text\n",
    "# mode). It can be None, '', '\\n', '\\r', and '\\r\\n'. \n",
    "file_to_output = open('to_save_file.csv','w',newline='')"
   ]
  },
  {
   "cell_type": "code",
   "execution_count": 41,
   "id": "2574b604",
   "metadata": {},
   "outputs": [],
   "source": [
    "csv_writer = csv.writer(file_to_output,delimiter=',')"
   ]
  },
  {
   "cell_type": "code",
   "execution_count": 42,
   "id": "9ea0db1a",
   "metadata": {},
   "outputs": [
    {
     "data": {
      "text/plain": [
       "7"
      ]
     },
     "execution_count": 42,
     "metadata": {},
     "output_type": "execute_result"
    }
   ],
   "source": [
    "csv_writer.writerow(['a','b','c'])"
   ]
  },
  {
   "cell_type": "code",
   "execution_count": 43,
   "id": "a0ee1887",
   "metadata": {},
   "outputs": [],
   "source": [
    "csv_writer.writerows([['1','2','3'],['4','5','6'],['7','8','9']])"
   ]
  },
  {
   "cell_type": "code",
   "execution_count": 44,
   "id": "2ba85286",
   "metadata": {},
   "outputs": [],
   "source": [
    "file_to_output.close()"
   ]
  },
  {
   "cell_type": "code",
   "execution_count": 45,
   "id": "e0122242",
   "metadata": {},
   "outputs": [],
   "source": [
    "# write to Existing File. exsisting+new data\n",
    "\n",
    "f = open('to_save_file.csv','a',newline='')\n",
    "csv_writer = csv.writer(f)\n",
    "csv_writer.writerow(['new1','new2','new3'])\n",
    "csv_writer.writerows([['1','2','3'],['4','5','6'],['7','8','9']])\n",
    "f.close()"
   ]
  },
  {
   "cell_type": "code",
   "execution_count": null,
   "id": "6f4350aa",
   "metadata": {},
   "outputs": [],
   "source": []
  },
  {
   "cell_type": "markdown",
   "id": "783d5b8a",
   "metadata": {},
   "source": [
    "# Pdf"
   ]
  },
  {
   "cell_type": "code",
   "execution_count": 3,
   "id": "545d7c42",
   "metadata": {},
   "outputs": [
    {
     "name": "stdout",
     "output_type": "stream",
     "text": [
      "Collecting PyPDF2\n",
      "  Using cached pypdf2-3.0.1-py3-none-any.whl (232 kB)\n",
      "Requirement already satisfied: typing_extensions>=3.10.0.0 in c:\\users\\user\\anaconda3\\lib\\site-packages (from PyPDF2) (4.3.0)\n",
      "Installing collected packages: PyPDF2\n",
      "Successfully installed PyPDF2-3.0.1\n"
     ]
    }
   ],
   "source": [
    " !pip install PyPDF2"
   ]
  },
  {
   "cell_type": "code",
   "execution_count": 10,
   "id": "c23ede2a",
   "metadata": {},
   "outputs": [],
   "source": [
    "#extracting text\n",
    "# importing required modules\n",
    "import PyPDF2"
   ]
  },
  {
   "cell_type": "code",
   "execution_count": 40,
   "id": "105942ac",
   "metadata": {},
   "outputs": [],
   "source": [
    "# creating a pdf file object\n",
    "f = open('Working_Business_Proposal.pdf','rb')\n",
    "# creating a pdf reader object\n",
    "pdf_reader = PyPDF2.PdfReader(f)"
   ]
  },
  {
   "cell_type": "code",
   "execution_count": 41,
   "id": "41cfa53a",
   "metadata": {},
   "outputs": [],
   "source": [
    "# creating a pdf reader object\n",
    "pdf_reader = PyPDF2.PdfReader(f)"
   ]
  },
  {
   "cell_type": "code",
   "execution_count": 45,
   "id": "02981e14",
   "metadata": {},
   "outputs": [
    {
     "data": {
      "text/plain": [
       "5"
      ]
     },
     "execution_count": 45,
     "metadata": {},
     "output_type": "execute_result"
    }
   ],
   "source": [
    "len(pdf_reader.pages)"
   ]
  },
  {
   "cell_type": "code",
   "execution_count": 47,
   "id": "855f40a9",
   "metadata": {},
   "outputs": [],
   "source": [
    "page_one = pdf_reader.pages[0]"
   ]
  },
  {
   "cell_type": "code",
   "execution_count": 49,
   "id": "5106e28d",
   "metadata": {},
   "outputs": [
    {
     "data": {
      "text/plain": [
       "'Business Proposal The Revolution is Coming Leverage agile frameworks to provide a robust synopsis for high level overviews. Iterative approaches to corporate strategy foster collaborative thinking to further the overall value proposition. Organically grow the holistic world view of disruptive innovation via workplace diversity and empowerment. Bring to the table win-win survival strategies to ensure proactive domination. At the end of the day, going forward, a new normal that has evolved from generation X is on the runway heading towards a streamlined cloud solution. User generated content in real-time will have multiple touchpoints for offshoring. Capitalize on low hanging fruit to identify a ballpark value added activity to beta test. Override the digital divide with additional clickthroughs from DevOps. Nanotechnology immersion along the information highway will close the loop on focusing solely on the bottom line. Podcasting operational change management inside of workﬂows to establish a framework. Taking seamless key performance indicators ofﬂine to maximise the long tail. Keeping your eye on the ball while performing a deep dive on the start-up mentality to derive convergence on cross-platform integration. Collaboratively administrate empowered markets via plug-and-play networks. Dynamically procrastinate B2C users after installed base beneﬁts. Dramatically visualize customer directed convergence without revolutionary ROI. Efﬁciently unleash cross-media information without cross-media value. Quickly maximize timely deliverables for real-time schemas. Dramatically maintain clicks-and-mortar solutions without functional solutions. BUSINESS PROPOSAL!1'"
      ]
     },
     "execution_count": 49,
     "metadata": {},
     "output_type": "execute_result"
    }
   ],
   "source": [
    "#extracting text from page\n",
    "page_one_text = page_one.extract_text()\n",
    "page_one_text"
   ]
  },
  {
   "cell_type": "code",
   "execution_count": null,
   "id": "10b17226",
   "metadata": {},
   "outputs": [],
   "source": []
  },
  {
   "cell_type": "markdown",
   "id": "55b13a27",
   "metadata": {},
   "source": [
    "# Adding page"
   ]
  },
  {
   "cell_type": "code",
   "execution_count": 36,
   "id": "5280d13e",
   "metadata": {},
   "outputs": [],
   "source": [
    "f = open('Working_Business_Proposal.pdf','rb')\n",
    "pdf_reader = PyPDF2.PdfReader(f)\n",
    "f = open('Working_Business_Proposal.pdf','rb')\n",
    "pdf_reader = PyPDF2.PdfReader(f)\n",
    "first_page = pdf_reader.pages[0]\n",
    "pdf_writer = PyPDF2.PdfWriter()\n",
    "pdf_writer.add_page(first_page)\n",
    "pdf_output = open(\"Some_New_Doc.pdf\",\"wb\")\n",
    "pdf_writer.write(pdf_output)\n",
    "f.close()"
   ]
  },
  {
   "cell_type": "code",
   "execution_count": null,
   "id": "c40cc7bb",
   "metadata": {},
   "outputs": [],
   "source": []
  }
 ],
 "metadata": {
  "kernelspec": {
   "display_name": "Python 3 (ipykernel)",
   "language": "python",
   "name": "python3"
  },
  "language_info": {
   "codemirror_mode": {
    "name": "ipython",
    "version": 3
   },
   "file_extension": ".py",
   "mimetype": "text/x-python",
   "name": "python",
   "nbconvert_exporter": "python",
   "pygments_lexer": "ipython3",
   "version": "3.9.13"
  }
 },
 "nbformat": 4,
 "nbformat_minor": 5
}
