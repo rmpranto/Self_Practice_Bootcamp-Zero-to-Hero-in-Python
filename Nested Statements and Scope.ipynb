{
 "cells": [
  {
   "cell_type": "code",
   "execution_count": 2,
   "id": "f5f2ffcf",
   "metadata": {},
   "outputs": [
    {
     "name": "stdout",
     "output_type": "stream",
     "text": [
      "Code\n",
      "Bro\n"
     ]
    }
   ],
   "source": [
    "#scope = The region that a variable is recognized\n",
    "#         A variable is only available from inside the region it is created.\n",
    "#         A global and locally scoped versions of a variable can be created\n",
    "\n",
    "name = \"Bro\" # global scope (available inside & outside functions)\n",
    "\n",
    "def display_name():\n",
    "    name = \"Code\"    # local scope (available only inside this function)\n",
    "    print(name)\n",
    "\n",
    "\n",
    "display_name()\n",
    "print(name)"
   ]
  },
  {
   "cell_type": "code",
   "execution_count": null,
   "id": "80f63c97",
   "metadata": {},
   "outputs": [],
   "source": []
  },
  {
   "cell_type": "code",
   "execution_count": null,
   "id": "8f075850",
   "metadata": {},
   "outputs": [],
   "source": []
  }
 ],
 "metadata": {
  "kernelspec": {
   "display_name": "Python 3 (ipykernel)",
   "language": "python",
   "name": "python3"
  },
  "language_info": {
   "codemirror_mode": {
    "name": "ipython",
    "version": 3
   },
   "file_extension": ".py",
   "mimetype": "text/x-python",
   "name": "python",
   "nbconvert_exporter": "python",
   "pygments_lexer": "ipython3",
   "version": "3.9.13"
  }
 },
 "nbformat": 4,
 "nbformat_minor": 5
}
