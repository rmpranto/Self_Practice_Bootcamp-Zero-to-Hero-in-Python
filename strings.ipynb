{
 "cells": [
  {
   "cell_type": "code",
   "execution_count": 1,
   "id": "66b4645f",
   "metadata": {},
   "outputs": [
    {
     "data": {
      "text/plain": [
       "'hello'"
      ]
     },
     "execution_count": 1,
     "metadata": {},
     "output_type": "execute_result"
    }
   ],
   "source": [
    "\"hello\""
   ]
  },
  {
   "cell_type": "code",
   "execution_count": 2,
   "id": "5e1573a8",
   "metadata": {},
   "outputs": [
    {
     "data": {
      "text/plain": [
       "'world'"
      ]
     },
     "execution_count": 2,
     "metadata": {},
     "output_type": "execute_result"
    }
   ],
   "source": [
    "'world'"
   ]
  },
  {
   "cell_type": "code",
   "execution_count": 3,
   "id": "e75bd29c",
   "metadata": {},
   "outputs": [
    {
     "data": {
      "text/plain": [
       "\"i'm pranto\""
      ]
     },
     "execution_count": 3,
     "metadata": {},
     "output_type": "execute_result"
    }
   ],
   "source": [
    "'i\\'m pranto'"
   ]
  },
  {
   "cell_type": "code",
   "execution_count": 4,
   "id": "9c3f6f1a",
   "metadata": {},
   "outputs": [
    {
     "name": "stdout",
     "output_type": "stream",
     "text": [
      "hello\n"
     ]
    }
   ],
   "source": [
    "print(\"hello\")"
   ]
  },
  {
   "cell_type": "code",
   "execution_count": 5,
   "id": "c0d001a8",
   "metadata": {},
   "outputs": [
    {
     "name": "stdout",
     "output_type": "stream",
     "text": [
      "rahat\n",
      "maksud\n"
     ]
    }
   ],
   "source": [
    "print(\"rahat\")\n",
    "print(\"maksud\")"
   ]
  },
  {
   "cell_type": "code",
   "execution_count": 7,
   "id": "d42e3070",
   "metadata": {},
   "outputs": [
    {
     "name": "stdout",
     "output_type": "stream",
     "text": [
      "hello \n",
      "world\n"
     ]
    }
   ],
   "source": [
    "print(\"hello \\nworld\")"
   ]
  },
  {
   "cell_type": "code",
   "execution_count": 9,
   "id": "56beec9d",
   "metadata": {},
   "outputs": [
    {
     "name": "stdout",
     "output_type": "stream",
     "text": [
      "hello \t world\n"
     ]
    }
   ],
   "source": [
    "print(\"hello \\t world\")"
   ]
  },
  {
   "cell_type": "code",
   "execution_count": 10,
   "id": "ed2a2c28",
   "metadata": {},
   "outputs": [
    {
     "data": {
      "text/plain": [
       "5"
      ]
     },
     "execution_count": 10,
     "metadata": {},
     "output_type": "execute_result"
    }
   ],
   "source": [
    "len (\"hello\")"
   ]
  },
  {
   "cell_type": "code",
   "execution_count": 12,
   "id": "5273e9c9",
   "metadata": {},
   "outputs": [
    {
     "data": {
      "text/plain": [
       "4"
      ]
     },
     "execution_count": 12,
     "metadata": {},
     "output_type": "execute_result"
    }
   ],
   "source": [
    "len(\"i am\")"
   ]
  },
  {
   "cell_type": "code",
   "execution_count": 15,
   "id": "62f4a65e",
   "metadata": {},
   "outputs": [],
   "source": [
    "my_string = \"hello world\""
   ]
  },
  {
   "cell_type": "code",
   "execution_count": 16,
   "id": "3af662b9",
   "metadata": {},
   "outputs": [
    {
     "data": {
      "text/plain": [
       "'hello world'"
      ]
     },
     "execution_count": 16,
     "metadata": {},
     "output_type": "execute_result"
    }
   ],
   "source": [
    "my_string"
   ]
  },
  {
   "cell_type": "code",
   "execution_count": 17,
   "id": "0966702c",
   "metadata": {},
   "outputs": [
    {
     "data": {
      "text/plain": [
       "'h'"
      ]
     },
     "execution_count": 17,
     "metadata": {},
     "output_type": "execute_result"
    }
   ],
   "source": [
    "my_string [0]"
   ]
  },
  {
   "cell_type": "code",
   "execution_count": 18,
   "id": "e31dd064",
   "metadata": {},
   "outputs": [
    {
     "data": {
      "text/plain": [
       "'d'"
      ]
     },
     "execution_count": 18,
     "metadata": {},
     "output_type": "execute_result"
    }
   ],
   "source": [
    "my_string [-1]"
   ]
  },
  {
   "cell_type": "code",
   "execution_count": 19,
   "id": "68b4f682",
   "metadata": {},
   "outputs": [],
   "source": [
    "my_string = 'abcdefghsd'"
   ]
  },
  {
   "cell_type": "code",
   "execution_count": 20,
   "id": "c964ff83",
   "metadata": {},
   "outputs": [
    {
     "data": {
      "text/plain": [
       "'abcdefghsd'"
      ]
     },
     "execution_count": 20,
     "metadata": {},
     "output_type": "execute_result"
    }
   ],
   "source": [
    "my_string"
   ]
  },
  {
   "cell_type": "code",
   "execution_count": 21,
   "id": "a6ef8417",
   "metadata": {},
   "outputs": [
    {
     "data": {
      "text/plain": [
       "'cdefghsd'"
      ]
     },
     "execution_count": 21,
     "metadata": {},
     "output_type": "execute_result"
    }
   ],
   "source": [
    "my_string [2:]"
   ]
  },
  {
   "cell_type": "code",
   "execution_count": 22,
   "id": "6aa327b8",
   "metadata": {},
   "outputs": [
    {
     "data": {
      "text/plain": [
       "'abc'"
      ]
     },
     "execution_count": 22,
     "metadata": {},
     "output_type": "execute_result"
    }
   ],
   "source": [
    "my_string [:3]"
   ]
  },
  {
   "cell_type": "code",
   "execution_count": 23,
   "id": "f76575fb",
   "metadata": {},
   "outputs": [
    {
     "data": {
      "text/plain": [
       "'def'"
      ]
     },
     "execution_count": 23,
     "metadata": {},
     "output_type": "execute_result"
    }
   ],
   "source": [
    "my_string [3:6]"
   ]
  },
  {
   "cell_type": "code",
   "execution_count": 24,
   "id": "a83a9518",
   "metadata": {},
   "outputs": [
    {
     "data": {
      "text/plain": [
       "'abcdefghsd'"
      ]
     },
     "execution_count": 24,
     "metadata": {},
     "output_type": "execute_result"
    }
   ],
   "source": [
    "my_string [::]"
   ]
  },
  {
   "cell_type": "code",
   "execution_count": 25,
   "id": "f507758a",
   "metadata": {},
   "outputs": [
    {
     "data": {
      "text/plain": [
       "'acegs'"
      ]
     },
     "execution_count": 25,
     "metadata": {},
     "output_type": "execute_result"
    }
   ],
   "source": [
    "my_string [::2]"
   ]
  },
  {
   "cell_type": "code",
   "execution_count": 26,
   "id": "4be3f582",
   "metadata": {},
   "outputs": [
    {
     "data": {
      "text/plain": [
       "'dhfdb'"
      ]
     },
     "execution_count": 26,
     "metadata": {},
     "output_type": "execute_result"
    }
   ],
   "source": [
    "my_string [::-2]"
   ]
  },
  {
   "cell_type": "code",
   "execution_count": 28,
   "id": "44b0a9a7",
   "metadata": {},
   "outputs": [
    {
     "data": {
      "text/plain": [
       "'abcdefghsd'"
      ]
     },
     "execution_count": 28,
     "metadata": {},
     "output_type": "execute_result"
    }
   ],
   "source": [
    "my_string [::1]"
   ]
  },
  {
   "cell_type": "markdown",
   "id": "821bae12",
   "metadata": {},
   "source": [
    "# string concatenation\n"
   ]
  },
  {
   "cell_type": "code",
   "execution_count": 29,
   "id": "dda07012",
   "metadata": {},
   "outputs": [],
   "source": [
    "name =\"sam\""
   ]
  },
  {
   "cell_type": "code",
   "execution_count": 34,
   "id": "df51bad9",
   "metadata": {},
   "outputs": [],
   "source": [
    "last_letter_name = name[1:]"
   ]
  },
  {
   "cell_type": "code",
   "execution_count": 35,
   "id": "7e8643f1",
   "metadata": {},
   "outputs": [
    {
     "data": {
      "text/plain": [
       "'am'"
      ]
     },
     "execution_count": 35,
     "metadata": {},
     "output_type": "execute_result"
    }
   ],
   "source": [
    "last_letter_name"
   ]
  },
  {
   "cell_type": "code",
   "execution_count": 36,
   "id": "618292ec",
   "metadata": {},
   "outputs": [
    {
     "data": {
      "text/plain": [
       "'pam'"
      ]
     },
     "execution_count": 36,
     "metadata": {},
     "output_type": "execute_result"
    }
   ],
   "source": [
    "'p'+last_letter_name"
   ]
  },
  {
   "cell_type": "code",
   "execution_count": 37,
   "id": "04b8d786",
   "metadata": {},
   "outputs": [],
   "source": [
    "x=\"My Mother\""
   ]
  },
  {
   "cell_type": "code",
   "execution_count": 39,
   "id": "0c54f526",
   "metadata": {},
   "outputs": [
    {
     "data": {
      "text/plain": [
       "'My Mother whom i loved '"
      ]
     },
     "execution_count": 39,
     "metadata": {},
     "output_type": "execute_result"
    }
   ],
   "source": [
    "x+\" whom i loved \""
   ]
  },
  {
   "cell_type": "code",
   "execution_count": 40,
   "id": "c71d7735",
   "metadata": {},
   "outputs": [
    {
     "data": {
      "text/plain": [
       "'53'"
      ]
     },
     "execution_count": 40,
     "metadata": {},
     "output_type": "execute_result"
    }
   ],
   "source": [
    "'5'+'3'"
   ]
  },
  {
   "cell_type": "code",
   "execution_count": 41,
   "id": "7bd77020",
   "metadata": {},
   "outputs": [],
   "source": [
    "x= \"Rahat Maksud Pranto\""
   ]
  },
  {
   "cell_type": "code",
   "execution_count": 42,
   "id": "cd016534",
   "metadata": {},
   "outputs": [
    {
     "data": {
      "text/plain": [
       "'RAHAT MAKSUD PRANTO'"
      ]
     },
     "execution_count": 42,
     "metadata": {},
     "output_type": "execute_result"
    }
   ],
   "source": [
    "x.upper()"
   ]
  },
  {
   "cell_type": "code",
   "execution_count": 43,
   "id": "bb12d70f",
   "metadata": {},
   "outputs": [
    {
     "data": {
      "text/plain": [
       "'rahat maksud pranto'"
      ]
     },
     "execution_count": 43,
     "metadata": {},
     "output_type": "execute_result"
    }
   ],
   "source": [
    "x.lower()"
   ]
  },
  {
   "cell_type": "code",
   "execution_count": 44,
   "id": "ac0db5d4",
   "metadata": {},
   "outputs": [
    {
     "data": {
      "text/plain": [
       "['Rahat', 'Maksud', 'Pranto']"
      ]
     },
     "execution_count": 44,
     "metadata": {},
     "output_type": "execute_result"
    }
   ],
   "source": [
    "x.split()"
   ]
  },
  {
   "cell_type": "code",
   "execution_count": 49,
   "id": "ccfea941",
   "metadata": {},
   "outputs": [
    {
     "data": {
      "text/plain": [
       "['R', 'h', 't M', 'ksud Pr', 'nto']"
      ]
     },
     "execution_count": 49,
     "metadata": {},
     "output_type": "execute_result"
    }
   ],
   "source": [
    "x.split('a')"
   ]
  },
  {
   "cell_type": "markdown",
   "id": "7d016a0f",
   "metadata": {},
   "source": [
    "# .format"
   ]
  },
  {
   "cell_type": "code",
   "execution_count": 54,
   "id": "0a776881",
   "metadata": {},
   "outputs": [
    {
     "name": "stdout",
     "output_type": "stream",
     "text": [
      "i love you\n"
     ]
    }
   ],
   "source": [
    "print('i love {}'.format('you'))"
   ]
  },
  {
   "cell_type": "code",
   "execution_count": 57,
   "id": "45158f49",
   "metadata": {},
   "outputs": [
    {
     "name": "stdout",
     "output_type": "stream",
     "text": [
      "i love the way you lie\n"
     ]
    }
   ],
   "source": [
    "print('i love {} {} {} {}'.format('the','way','you','lie'))"
   ]
  },
  {
   "cell_type": "code",
   "execution_count": 58,
   "id": "6faa1f92",
   "metadata": {},
   "outputs": [
    {
     "name": "stdout",
     "output_type": "stream",
     "text": [
      "i love you you you you\n"
     ]
    }
   ],
   "source": [
    "print('i love {2} {2} {2} {2}'.format('the','way','you','lie'))"
   ]
  },
  {
   "cell_type": "code",
   "execution_count": 59,
   "id": "4317ead9",
   "metadata": {},
   "outputs": [
    {
     "name": "stdout",
     "output_type": "stream",
     "text": [
      "i love lie the way you\n"
     ]
    }
   ],
   "source": [
    "print('i love {d} {a} {b} {c}'.format(a='the',b='way',c='you',d='lie'))"
   ]
  },
  {
   "cell_type": "markdown",
   "id": "e25690fa",
   "metadata": {},
   "source": [
    "# float formatting follows \"{value:width.precision f}\""
   ]
  },
  {
   "cell_type": "code",
   "execution_count": 70,
   "id": "10b5e68a",
   "metadata": {},
   "outputs": [
    {
     "data": {
      "text/plain": [
       "1.287001287001287"
      ]
     },
     "execution_count": 70,
     "metadata": {},
     "output_type": "execute_result"
    }
   ],
   "source": [
    "result=1000/777\n",
    "result"
   ]
  },
  {
   "cell_type": "code",
   "execution_count": 72,
   "id": "f17b59f3",
   "metadata": {},
   "outputs": [
    {
     "name": "stdout",
     "output_type": "stream",
     "text": [
      "my result is      1.287\n"
     ]
    }
   ],
   "source": [
    "print(\"my result is {r:10.3f}\".format(r=result))"
   ]
  },
  {
   "cell_type": "code",
   "execution_count": 73,
   "id": "922a31b9",
   "metadata": {},
   "outputs": [],
   "source": [
    "name ='pranto'\n",
    "age=27"
   ]
  },
  {
   "cell_type": "code",
   "execution_count": 76,
   "id": "d1a4f989",
   "metadata": {},
   "outputs": [
    {
     "name": "stdout",
     "output_type": "stream",
     "text": [
      "pranto is 27 years old\n"
     ]
    }
   ],
   "source": [
    "print(f'{name} is {age} years old')"
   ]
  },
  {
   "cell_type": "code",
   "execution_count": null,
   "id": "f57d79e2",
   "metadata": {},
   "outputs": [],
   "source": []
  }
 ],
 "metadata": {
  "kernelspec": {
   "display_name": "Python 3 (ipykernel)",
   "language": "python",
   "name": "python3"
  },
  "language_info": {
   "codemirror_mode": {
    "name": "ipython",
    "version": 3
   },
   "file_extension": ".py",
   "mimetype": "text/x-python",
   "name": "python",
   "nbconvert_exporter": "python",
   "pygments_lexer": "ipython3",
   "version": "3.9.13"
  }
 },
 "nbformat": 4,
 "nbformat_minor": 5
}
