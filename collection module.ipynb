{
 "cells": [
  {
   "cell_type": "markdown",
   "id": "7a967293",
   "metadata": {},
   "source": [
    "# Counter"
   ]
  },
  {
   "cell_type": "code",
   "execution_count": 2,
   "id": "81cf8bf9",
   "metadata": {},
   "outputs": [],
   "source": [
    "from collections import Counter"
   ]
  },
  {
   "cell_type": "code",
   "execution_count": 5,
   "id": "653013e1",
   "metadata": {},
   "outputs": [],
   "source": [
    "mylist = [1,2,2,2,3,3,3,1,2,1,12,3,2,32,41,41,1]"
   ]
  },
  {
   "cell_type": "code",
   "execution_count": 7,
   "id": "1b517341",
   "metadata": {},
   "outputs": [
    {
     "data": {
      "text/plain": [
       "Counter({1: 4, 2: 5, 3: 4, 12: 1, 32: 1, 41: 2})"
      ]
     },
     "execution_count": 7,
     "metadata": {},
     "output_type": "execute_result"
    }
   ],
   "source": [
    "Counter(mylist)"
   ]
  },
  {
   "cell_type": "code",
   "execution_count": 9,
   "id": "9cd5c060",
   "metadata": {},
   "outputs": [],
   "source": [
    "mylist=['a','a',2,2]"
   ]
  },
  {
   "cell_type": "code",
   "execution_count": 10,
   "id": "88d48086",
   "metadata": {},
   "outputs": [
    {
     "data": {
      "text/plain": [
       "Counter({'a': 2, 2: 2})"
      ]
     },
     "execution_count": 10,
     "metadata": {},
     "output_type": "execute_result"
    }
   ],
   "source": [
    "Counter(mylist)"
   ]
  },
  {
   "cell_type": "code",
   "execution_count": 20,
   "id": "b746c004",
   "metadata": {},
   "outputs": [
    {
     "data": {
      "text/plain": [
       "Counter({'How': 1,\n",
       "         'many': 1,\n",
       "         'times': 2,\n",
       "         'does': 1,\n",
       "         'each': 3,\n",
       "         'word': 3,\n",
       "         'show': 1,\n",
       "         'up': 1,\n",
       "         'in': 1,\n",
       "         'this': 1,\n",
       "         'sentence': 1})"
      ]
     },
     "execution_count": 20,
     "metadata": {},
     "output_type": "execute_result"
    }
   ],
   "source": [
    "sentence = 'How many times does each word show up in this sentence word times each each word'\n",
    "\n",
    "words=sentence.split()\n",
    "Counter (words)"
   ]
  },
  {
   "cell_type": "code",
   "execution_count": 28,
   "id": "21674fa3",
   "metadata": {},
   "outputs": [],
   "source": [
    "letters='aaaaabbbbbccccceeeexxxd'"
   ]
  },
  {
   "cell_type": "code",
   "execution_count": 29,
   "id": "cea6307f",
   "metadata": {},
   "outputs": [],
   "source": [
    "l=Counter(letters)"
   ]
  },
  {
   "cell_type": "code",
   "execution_count": 30,
   "id": "ffef84a5",
   "metadata": {},
   "outputs": [
    {
     "data": {
      "text/plain": [
       "Counter({'a': 5, 'b': 5, 'c': 5, 'e': 4, 'x': 3, 'd': 1})"
      ]
     },
     "execution_count": 30,
     "metadata": {},
     "output_type": "execute_result"
    }
   ],
   "source": [
    "l"
   ]
  },
  {
   "cell_type": "code",
   "execution_count": 33,
   "id": "a79ef9bd",
   "metadata": {},
   "outputs": [
    {
     "data": {
      "text/plain": [
       "[('a', 5), ('b', 5), ('c', 5), ('e', 4), ('x', 3), ('d', 1)]"
      ]
     },
     "execution_count": 33,
     "metadata": {},
     "output_type": "execute_result"
    }
   ],
   "source": [
    "l.most_common()"
   ]
  },
  {
   "cell_type": "code",
   "execution_count": 34,
   "id": "6839a876",
   "metadata": {},
   "outputs": [
    {
     "data": {
      "text/plain": [
       "[('a', 5), ('b', 5)]"
      ]
     },
     "execution_count": 34,
     "metadata": {},
     "output_type": "execute_result"
    }
   ],
   "source": [
    "l.most_common(2)"
   ]
  },
  {
   "cell_type": "code",
   "execution_count": null,
   "id": "20db23b1",
   "metadata": {},
   "outputs": [],
   "source": []
  },
  {
   "cell_type": "markdown",
   "id": "f52fa567",
   "metadata": {},
   "source": [
    "# defaultdict"
   ]
  },
  {
   "cell_type": "code",
   "execution_count": 38,
   "id": "9fd222b9",
   "metadata": {},
   "outputs": [
    {
     "name": "stdout",
     "output_type": "stream",
     "text": [
      "0\n"
     ]
    }
   ],
   "source": [
    "from collections import defaultdict\n",
    "number = defaultdict(int)      \n",
    "number['one'] = 1      \n",
    "number['two'] = 2      \n",
    "print(number['three']) "
   ]
  },
  {
   "cell_type": "markdown",
   "id": "44ff8e5c",
   "metadata": {},
   "source": [
    "# Namedtuple"
   ]
  },
  {
   "cell_type": "code",
   "execution_count": 42,
   "id": "635b90a8",
   "metadata": {},
   "outputs": [
    {
     "name": "stdout",
     "output_type": "stream",
     "text": [
      "Peter\n"
     ]
    }
   ],
   "source": [
    "from collections import namedtuple\n",
    "Student = namedtuple('Student', 'fname, lname, age')  \n",
    "s1 = Student('Peter', 'James', '13')  \n",
    "print(s1.fname)"
   ]
  },
  {
   "cell_type": "code",
   "execution_count": 44,
   "id": "4dd859e1",
   "metadata": {},
   "outputs": [
    {
     "data": {
      "text/plain": [
       "'James'"
      ]
     },
     "execution_count": 44,
     "metadata": {},
     "output_type": "execute_result"
    }
   ],
   "source": [
    "s1[1]"
   ]
  },
  {
   "cell_type": "code",
   "execution_count": 46,
   "id": "f32f565c",
   "metadata": {},
   "outputs": [
    {
     "data": {
      "text/plain": [
       "'13'"
      ]
     },
     "execution_count": 46,
     "metadata": {},
     "output_type": "execute_result"
    }
   ],
   "source": [
    "s1.age"
   ]
  },
  {
   "cell_type": "code",
   "execution_count": null,
   "id": "602f4414",
   "metadata": {},
   "outputs": [],
   "source": []
  }
 ],
 "metadata": {
  "kernelspec": {
   "display_name": "Python 3 (ipykernel)",
   "language": "python",
   "name": "python3"
  },
  "language_info": {
   "codemirror_mode": {
    "name": "ipython",
    "version": 3
   },
   "file_extension": ".py",
   "mimetype": "text/x-python",
   "name": "python",
   "nbconvert_exporter": "python",
   "pygments_lexer": "ipython3",
   "version": "3.9.13"
  }
 },
 "nbformat": 4,
 "nbformat_minor": 5
}
