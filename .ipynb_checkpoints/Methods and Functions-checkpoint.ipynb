{
 "cells": [
  {
   "cell_type": "code",
   "execution_count": 2,
   "id": "b16e4fe4",
   "metadata": {},
   "outputs": [],
   "source": [
    "mylist=[1,2,3]"
   ]
  },
  {
   "cell_type": "code",
   "execution_count": 3,
   "id": "1228d8de",
   "metadata": {},
   "outputs": [],
   "source": [
    "mylist.append(4)"
   ]
  },
  {
   "cell_type": "code",
   "execution_count": 4,
   "id": "30ee5781",
   "metadata": {},
   "outputs": [
    {
     "data": {
      "text/plain": [
       "[1, 2, 3, 4]"
      ]
     },
     "execution_count": 4,
     "metadata": {},
     "output_type": "execute_result"
    }
   ],
   "source": [
    "mylist"
   ]
  },
  {
   "cell_type": "code",
   "execution_count": 5,
   "id": "28fb4996",
   "metadata": {},
   "outputs": [
    {
     "data": {
      "text/plain": [
       "4"
      ]
     },
     "execution_count": 5,
     "metadata": {},
     "output_type": "execute_result"
    }
   ],
   "source": [
    "mylist.pop()"
   ]
  },
  {
   "cell_type": "code",
   "execution_count": 6,
   "id": "81f34795",
   "metadata": {},
   "outputs": [
    {
     "data": {
      "text/plain": [
       "[1, 2, 3]"
      ]
     },
     "execution_count": 6,
     "metadata": {},
     "output_type": "execute_result"
    }
   ],
   "source": [
    "mylist"
   ]
  },
  {
   "cell_type": "code",
   "execution_count": null,
   "id": "60637128",
   "metadata": {},
   "outputs": [],
   "source": []
  },
  {
   "cell_type": "code",
   "execution_count": 1,
   "id": "7ecd4830",
   "metadata": {},
   "outputs": [],
   "source": [
    "#def functions"
   ]
  },
  {
   "cell_type": "code",
   "execution_count": 22,
   "id": "713b5cb6",
   "metadata": {},
   "outputs": [],
   "source": [
    "def my_func():\n",
    "    print ('hello')"
   ]
  },
  {
   "cell_type": "code",
   "execution_count": 23,
   "id": "19941058",
   "metadata": {},
   "outputs": [
    {
     "name": "stdout",
     "output_type": "stream",
     "text": [
      "hello\n"
     ]
    }
   ],
   "source": [
    "my_func()"
   ]
  },
  {
   "cell_type": "code",
   "execution_count": 24,
   "id": "6d73c135",
   "metadata": {},
   "outputs": [],
   "source": [
    "def my_func(name):\n",
    "    print(f'hello {name}')"
   ]
  },
  {
   "cell_type": "code",
   "execution_count": 26,
   "id": "c957e34c",
   "metadata": {},
   "outputs": [
    {
     "name": "stdout",
     "output_type": "stream",
     "text": [
      "hello pranto\n"
     ]
    }
   ],
   "source": [
    "my_func('pranto')"
   ]
  },
  {
   "cell_type": "code",
   "execution_count": 30,
   "id": "09401bed",
   "metadata": {},
   "outputs": [],
   "source": [
    "def print_result(a,b):\n",
    "    print (a+b)"
   ]
  },
  {
   "cell_type": "code",
   "execution_count": 31,
   "id": "b0ce545d",
   "metadata": {},
   "outputs": [],
   "source": [
    "def return_result(a,b):\n",
    "    return (a+b)"
   ]
  },
  {
   "cell_type": "code",
   "execution_count": 34,
   "id": "9060d598",
   "metadata": {},
   "outputs": [
    {
     "name": "stdout",
     "output_type": "stream",
     "text": [
      "70\n"
     ]
    }
   ],
   "source": [
    "result=print_result(30,40)"
   ]
  },
  {
   "cell_type": "code",
   "execution_count": 36,
   "id": "1a64e6b6",
   "metadata": {},
   "outputs": [
    {
     "data": {
      "text/plain": [
       "NoneType"
      ]
     },
     "execution_count": 36,
     "metadata": {},
     "output_type": "execute_result"
    }
   ],
   "source": [
    "type(result)"
   ]
  },
  {
   "cell_type": "code",
   "execution_count": 38,
   "id": "11242a37",
   "metadata": {},
   "outputs": [],
   "source": [
    "result=return_result(30,40)"
   ]
  },
  {
   "cell_type": "code",
   "execution_count": 40,
   "id": "b0874756",
   "metadata": {},
   "outputs": [
    {
     "data": {
      "text/plain": [
       "int"
      ]
     },
     "execution_count": 40,
     "metadata": {},
     "output_type": "execute_result"
    }
   ],
   "source": [
    "type(result)"
   ]
  },
  {
   "cell_type": "code",
   "execution_count": 41,
   "id": "0cd432f5",
   "metadata": {},
   "outputs": [],
   "source": [
    "#both return and print"
   ]
  },
  {
   "cell_type": "code",
   "execution_count": 42,
   "id": "2cc4bad3",
   "metadata": {},
   "outputs": [],
   "source": [
    "def my_func(a,b):\n",
    "    print(a+b)\n",
    "    return(a+b)"
   ]
  },
  {
   "cell_type": "code",
   "execution_count": 46,
   "id": "5847ec7a",
   "metadata": {},
   "outputs": [
    {
     "name": "stdout",
     "output_type": "stream",
     "text": [
      "70\n"
     ]
    },
    {
     "data": {
      "text/plain": [
       "70"
      ]
     },
     "execution_count": 46,
     "metadata": {},
     "output_type": "execute_result"
    }
   ],
   "source": [
    "my_func(30,40)"
   ]
  },
  {
   "cell_type": "code",
   "execution_count": 47,
   "id": "ae16021c",
   "metadata": {},
   "outputs": [
    {
     "name": "stdout",
     "output_type": "stream",
     "text": [
      "70\n"
     ]
    }
   ],
   "source": [
    "result=my_func(30,40)"
   ]
  },
  {
   "cell_type": "markdown",
   "id": "27aded6d",
   "metadata": {},
   "source": [
    "# Logic with python functions"
   ]
  },
  {
   "cell_type": "code",
   "execution_count": 48,
   "id": "8256aea6",
   "metadata": {},
   "outputs": [
    {
     "data": {
      "text/plain": [
       "0"
      ]
     },
     "execution_count": 48,
     "metadata": {},
     "output_type": "execute_result"
    }
   ],
   "source": [
    "2%2"
   ]
  },
  {
   "cell_type": "code",
   "execution_count": 49,
   "id": "ae234dc9",
   "metadata": {},
   "outputs": [
    {
     "data": {
      "text/plain": [
       "1"
      ]
     },
     "execution_count": 49,
     "metadata": {},
     "output_type": "execute_result"
    }
   ],
   "source": [
    "3%2"
   ]
  },
  {
   "cell_type": "code",
   "execution_count": 50,
   "id": "3c81f894",
   "metadata": {},
   "outputs": [
    {
     "data": {
      "text/plain": [
       "0"
      ]
     },
     "execution_count": 50,
     "metadata": {},
     "output_type": "execute_result"
    }
   ],
   "source": [
    "20%2"
   ]
  },
  {
   "cell_type": "code",
   "execution_count": 52,
   "id": "145857c0",
   "metadata": {},
   "outputs": [
    {
     "data": {
      "text/plain": [
       "True"
      ]
     },
     "execution_count": 52,
     "metadata": {},
     "output_type": "execute_result"
    }
   ],
   "source": [
    "20%2==0"
   ]
  },
  {
   "cell_type": "code",
   "execution_count": 53,
   "id": "c940cff9",
   "metadata": {},
   "outputs": [
    {
     "data": {
      "text/plain": [
       "False"
      ]
     },
     "execution_count": 53,
     "metadata": {},
     "output_type": "execute_result"
    }
   ],
   "source": [
    "21%2==0"
   ]
  },
  {
   "cell_type": "code",
   "execution_count": 57,
   "id": "6e71adac",
   "metadata": {},
   "outputs": [],
   "source": [
    "def even_check(number):\n",
    "    result=number%2==0\n",
    "    return result\n",
    "    "
   ]
  },
  {
   "cell_type": "code",
   "execution_count": 58,
   "id": "81dd57b3",
   "metadata": {},
   "outputs": [
    {
     "data": {
      "text/plain": [
       "True"
      ]
     },
     "execution_count": 58,
     "metadata": {},
     "output_type": "execute_result"
    }
   ],
   "source": [
    "even_check(20)"
   ]
  },
  {
   "cell_type": "code",
   "execution_count": 59,
   "id": "f1c7759e",
   "metadata": {},
   "outputs": [
    {
     "data": {
      "text/plain": [
       "False"
      ]
     },
     "execution_count": 59,
     "metadata": {},
     "output_type": "execute_result"
    }
   ],
   "source": [
    "even_check(21)"
   ]
  },
  {
   "cell_type": "code",
   "execution_count": 1,
   "id": "2f284620",
   "metadata": {},
   "outputs": [],
   "source": [
    "#Return true if any number in a list even "
   ]
  },
  {
   "cell_type": "code",
   "execution_count": 10,
   "id": "2517ab81",
   "metadata": {},
   "outputs": [],
   "source": [
    "def check_even_list(num_list):\n",
    "    for number in num_list:\n",
    "        if number%2==0:\n",
    "            return True\n",
    "        else:\n",
    "            pass\n",
    "    return False"
   ]
  },
  {
   "cell_type": "code",
   "execution_count": 11,
   "id": "9fc0fa76",
   "metadata": {},
   "outputs": [
    {
     "data": {
      "text/plain": [
       "False"
      ]
     },
     "execution_count": 11,
     "metadata": {},
     "output_type": "execute_result"
    }
   ],
   "source": [
    "check_even_list([1,3,5])"
   ]
  },
  {
   "cell_type": "code",
   "execution_count": 12,
   "id": "3eca96eb",
   "metadata": {},
   "outputs": [
    {
     "data": {
      "text/plain": [
       "True"
      ]
     },
     "execution_count": 12,
     "metadata": {},
     "output_type": "execute_result"
    }
   ],
   "source": [
    "check_even_list([2,4,6])"
   ]
  },
  {
   "cell_type": "code",
   "execution_count": 13,
   "id": "a95aca5c",
   "metadata": {},
   "outputs": [
    {
     "data": {
      "text/plain": [
       "True"
      ]
     },
     "execution_count": 13,
     "metadata": {},
     "output_type": "execute_result"
    }
   ],
   "source": [
    "check_even_list([1,3,6])"
   ]
  },
  {
   "cell_type": "code",
   "execution_count": null,
   "id": "2a3d29a6",
   "metadata": {},
   "outputs": [],
   "source": [
    "#Return all even  number in a list "
   ]
  },
  {
   "cell_type": "code",
   "execution_count": 14,
   "id": "d8ab7959",
   "metadata": {},
   "outputs": [],
   "source": [
    "def check_even_list(num_list):\n",
    "    even_numbers=[]\n",
    "    for number in num_list:\n",
    "        if number%2==0:\n",
    "            even_numbers.append(number)\n",
    "            \n",
    "        else:\n",
    "            pass\n",
    "    return even_numbers"
   ]
  },
  {
   "cell_type": "code",
   "execution_count": 15,
   "id": "e0237cb3",
   "metadata": {},
   "outputs": [
    {
     "data": {
      "text/plain": [
       "[2, 4]"
      ]
     },
     "execution_count": 15,
     "metadata": {},
     "output_type": "execute_result"
    }
   ],
   "source": [
    "check_even_list([1,2,3,4])"
   ]
  },
  {
   "cell_type": "markdown",
   "id": "b97fb20d",
   "metadata": {},
   "source": [
    "# Tuple Unpacking with Python Functions"
   ]
  },
  {
   "cell_type": "code",
   "execution_count": 18,
   "id": "3a9ba7da",
   "metadata": {},
   "outputs": [],
   "source": [
    "stock_prices = [('apple',200),('google',100),('lenevo',300)]"
   ]
  },
  {
   "cell_type": "code",
   "execution_count": 20,
   "id": "67e67a88",
   "metadata": {},
   "outputs": [
    {
     "name": "stdout",
     "output_type": "stream",
     "text": [
      "('apple', 200)\n",
      "('google', 100)\n",
      "('lenevo', 300)\n"
     ]
    }
   ],
   "source": [
    "for item in stock_prices:\n",
    "    print (item)"
   ]
  },
  {
   "cell_type": "code",
   "execution_count": 21,
   "id": "012826f4",
   "metadata": {},
   "outputs": [
    {
     "name": "stdout",
     "output_type": "stream",
     "text": [
      "200\n",
      "100\n",
      "300\n"
     ]
    }
   ],
   "source": [
    "for ticker,price in stock_prices:\n",
    "    print (price)"
   ]
  },
  {
   "cell_type": "code",
   "execution_count": 35,
   "id": "d1a97189",
   "metadata": {},
   "outputs": [],
   "source": [
    "work_hours=[('pranto',100),('ishan',200),('santo',300)]"
   ]
  },
  {
   "cell_type": "code",
   "execution_count": 36,
   "id": "72b304c6",
   "metadata": {},
   "outputs": [],
   "source": [
    "def employee_check(work_hours):\n",
    "    \n",
    "    current_max=0\n",
    "    employee_of_month=''\n",
    "    \n",
    "    for employee,hours in work_hours:\n",
    "        if hours > current_max:\n",
    "            current_max=hours\n",
    "            employee_of_month=employee\n",
    "            \n",
    "        else:\n",
    "             pass\n",
    "    \n",
    "    return (employee_of_month,current_max)"
   ]
  },
  {
   "cell_type": "code",
   "execution_count": 37,
   "id": "3f2df6eb",
   "metadata": {},
   "outputs": [
    {
     "data": {
      "text/plain": [
       "('santo', 300)"
      ]
     },
     "execution_count": 37,
     "metadata": {},
     "output_type": "execute_result"
    }
   ],
   "source": [
    "employee_check(work_hours)"
   ]
  },
  {
   "cell_type": "code",
   "execution_count": 38,
   "id": "44c4c600",
   "metadata": {},
   "outputs": [],
   "source": [
    "name,hours=employee_check(work_hours)"
   ]
  },
  {
   "cell_type": "code",
   "execution_count": 39,
   "id": "5c11519c",
   "metadata": {},
   "outputs": [
    {
     "data": {
      "text/plain": [
       "'santo'"
      ]
     },
     "execution_count": 39,
     "metadata": {},
     "output_type": "execute_result"
    }
   ],
   "source": [
    "name"
   ]
  },
  {
   "cell_type": "code",
   "execution_count": 40,
   "id": "111854ca",
   "metadata": {},
   "outputs": [
    {
     "data": {
      "text/plain": [
       "300"
      ]
     },
     "execution_count": 40,
     "metadata": {},
     "output_type": "execute_result"
    }
   ],
   "source": [
    "hours"
   ]
  },
  {
   "cell_type": "markdown",
   "id": "c3aab178",
   "metadata": {},
   "source": [
    "# Interactions between Python Functions"
   ]
  },
  {
   "cell_type": "code",
   "execution_count": 41,
   "id": "eb8b53a2",
   "metadata": {},
   "outputs": [],
   "source": [
    "example=[1,2,3,4,5,6,7]"
   ]
  },
  {
   "cell_type": "code",
   "execution_count": 42,
   "id": "e68dd272",
   "metadata": {},
   "outputs": [],
   "source": [
    "from random import shuffle"
   ]
  },
  {
   "cell_type": "code",
   "execution_count": 44,
   "id": "1fabeebb",
   "metadata": {},
   "outputs": [],
   "source": [
    "shuffle (example)"
   ]
  },
  {
   "cell_type": "code",
   "execution_count": 45,
   "id": "bd8c05ba",
   "metadata": {},
   "outputs": [
    {
     "data": {
      "text/plain": [
       "[4, 7, 5, 2, 3, 6, 1]"
      ]
     },
     "execution_count": 45,
     "metadata": {},
     "output_type": "execute_result"
    }
   ],
   "source": [
    "example"
   ]
  },
  {
   "cell_type": "code",
   "execution_count": 48,
   "id": "5a45e041",
   "metadata": {},
   "outputs": [],
   "source": [
    "def shuffle_list(mylist):\n",
    "    shuffle(mylist)\n",
    "    return(mylist)"
   ]
  },
  {
   "cell_type": "code",
   "execution_count": 52,
   "id": "0de6d0ad",
   "metadata": {},
   "outputs": [],
   "source": [
    "result=shuffle_list(example)"
   ]
  },
  {
   "cell_type": "code",
   "execution_count": 53,
   "id": "2dd2e527",
   "metadata": {},
   "outputs": [
    {
     "data": {
      "text/plain": [
       "[6, 4, 5, 1, 3, 2, 7]"
      ]
     },
     "execution_count": 53,
     "metadata": {},
     "output_type": "execute_result"
    }
   ],
   "source": [
    "result"
   ]
  },
  {
   "cell_type": "code",
   "execution_count": 46,
   "id": "aac5dbc1",
   "metadata": {},
   "outputs": [],
   "source": [
    "#shuffle game"
   ]
  },
  {
   "cell_type": "code",
   "execution_count": 56,
   "id": "0f772770",
   "metadata": {},
   "outputs": [],
   "source": [
    "mylist=[' ','O',' ']"
   ]
  },
  {
   "cell_type": "code",
   "execution_count": 65,
   "id": "e60c4b53",
   "metadata": {},
   "outputs": [],
   "source": [
    "def player_guess():\n",
    "    guess=''\n",
    "    while guess not in ['0','1','2']:\n",
    "        guess=input(\"pick a number:0,1, or 2\")\n",
    "    return int(guess)"
   ]
  },
  {
   "cell_type": "code",
   "execution_count": 66,
   "id": "7abc89c3",
   "metadata": {},
   "outputs": [
    {
     "name": "stdout",
     "output_type": "stream",
     "text": [
      "pick a number:0,1, or 28\n",
      "pick a number:0,1, or 29\n",
      "pick a number:0,1, or 21\n"
     ]
    },
    {
     "data": {
      "text/plain": [
       "1"
      ]
     },
     "execution_count": 66,
     "metadata": {},
     "output_type": "execute_result"
    }
   ],
   "source": [
    "player_guess()"
   ]
  },
  {
   "cell_type": "code",
   "execution_count": 67,
   "id": "0b760c52",
   "metadata": {},
   "outputs": [
    {
     "name": "stdout",
     "output_type": "stream",
     "text": [
      "pick a number:0,1, or 21\n"
     ]
    },
    {
     "data": {
      "text/plain": [
       "1"
      ]
     },
     "execution_count": 67,
     "metadata": {},
     "output_type": "execute_result"
    }
   ],
   "source": [
    "player_guess()"
   ]
  },
  {
   "cell_type": "code",
   "execution_count": 68,
   "id": "0669543d",
   "metadata": {},
   "outputs": [
    {
     "name": "stdout",
     "output_type": "stream",
     "text": [
      "pick a number:0,1, or 22\n"
     ]
    }
   ],
   "source": [
    "myindex= player_guess()"
   ]
  },
  {
   "cell_type": "code",
   "execution_count": 69,
   "id": "8eb155a4",
   "metadata": {},
   "outputs": [
    {
     "data": {
      "text/plain": [
       "2"
      ]
     },
     "execution_count": 69,
     "metadata": {},
     "output_type": "execute_result"
    }
   ],
   "source": [
    "myindex"
   ]
  },
  {
   "cell_type": "code",
   "execution_count": 70,
   "id": "c390c8e5",
   "metadata": {},
   "outputs": [],
   "source": [
    "def check_guess(mylist,guess):\n",
    "    if mylist[guess]=='O':\n",
    "        print (\"correct!\")\n",
    "    else:\n",
    "        print (\"wrong Guess\")\n",
    "        print(mylist)"
   ]
  },
  {
   "cell_type": "code",
   "execution_count": 75,
   "id": "324a926b",
   "metadata": {},
   "outputs": [
    {
     "name": "stdout",
     "output_type": "stream",
     "text": [
      "pick a number:0,1, or 24\n",
      "pick a number:0,1, or 20\n",
      "wrong Guess\n",
      "[' ', 'O', ' ']\n"
     ]
    }
   ],
   "source": [
    "mylist=[' ','O',' ']\n",
    "mixedup_list=shuffle_list(mylist)\n",
    "guess=player_guess()\n",
    "check_guess(mixedup_list,guess)"
   ]
  },
  {
   "cell_type": "code",
   "execution_count": null,
   "id": "0e9a85e9",
   "metadata": {},
   "outputs": [],
   "source": []
  },
  {
   "cell_type": "markdown",
   "id": "bf35311c",
   "metadata": {},
   "source": [
    "# * args and **kwargs"
   ]
  },
  {
   "cell_type": "code",
   "execution_count": 77,
   "id": "381b4726",
   "metadata": {},
   "outputs": [],
   "source": [
    "def myfunc(*args):\n",
    "    return sum (args)*0.5"
   ]
  },
  {
   "cell_type": "code",
   "execution_count": 80,
   "id": "ebf2c071",
   "metadata": {},
   "outputs": [
    {
     "data": {
      "text/plain": [
       "22.5"
      ]
     },
     "execution_count": 80,
     "metadata": {},
     "output_type": "execute_result"
    }
   ],
   "source": [
    "myfunc(10,5,10,20)"
   ]
  },
  {
   "cell_type": "code",
   "execution_count": null,
   "id": "9b88c2bd",
   "metadata": {},
   "outputs": [],
   "source": []
  },
  {
   "cell_type": "code",
   "execution_count": null,
   "id": "cd1371b6",
   "metadata": {},
   "outputs": [],
   "source": []
  },
  {
   "cell_type": "code",
   "execution_count": 81,
   "id": "e68c2519",
   "metadata": {},
   "outputs": [],
   "source": [
    "#kwargs"
   ]
  },
  {
   "cell_type": "code",
   "execution_count": 117,
   "id": "31f1ea9d",
   "metadata": {},
   "outputs": [],
   "source": [
    "def myfunc(**kwargs):\n",
    "    print(kwargs)\n",
    "    if 'fruit'in kwargs:\n",
    "        print('my fruit of choice is {}'.format(kwargs['fruit']))\n",
    "    else:\n",
    "        print ('don\\'t find any fruit here')"
   ]
  },
  {
   "cell_type": "code",
   "execution_count": 119,
   "id": "c020fb29",
   "metadata": {},
   "outputs": [
    {
     "name": "stdout",
     "output_type": "stream",
     "text": [
      "{'fruit': 'apple', 'veggie': 'tomato'}\n",
      "my fruit of choice is apple\n"
     ]
    }
   ],
   "source": [
    "myfunc(fruit='apple',veggie='tomato')"
   ]
  },
  {
   "cell_type": "code",
   "execution_count": 116,
   "id": "f52f2a9c",
   "metadata": {
    "scrolled": true
   },
   "outputs": [
    {
     "name": "stdout",
     "output_type": "stream",
     "text": [
      "\n",
      "Data type of argument: <class 'dict'>\n",
      "Firstname is Sita\n",
      "Lastname is Sharma\n",
      "Age is 22\n",
      "Phone is 1234567890\n",
      "\n",
      "Data type of argument: <class 'dict'>\n",
      "Firstname is John\n",
      "Lastname is Wood\n",
      "Email is johnwood@nomail.com\n",
      "Country is Wakanda\n",
      "Age is 25\n",
      "Phone is 9876543210\n"
     ]
    }
   ],
   "source": [
    "def intro(**data):\n",
    "    print(\"\\nData type of argument:\",type(data))\n",
    "\n",
    "    for key, value in data.items():\n",
    "        print(\"{} is {}\".format(key,value))\n",
    "\n",
    "intro(Firstname=\"Sita\", Lastname=\"Sharma\", Age=22, Phone=1234567890)\n",
    "intro(Firstname=\"John\", Lastname=\"Wood\", Email=\"johnwood@nomail.com\", Country=\"Wakanda\", Age=25, Phone=9876543210)"
   ]
  },
  {
   "cell_type": "code",
   "execution_count": 132,
   "id": "3dff6cdf",
   "metadata": {},
   "outputs": [],
   "source": [
    "def myfunc(*args,**kwargs):\n",
    "    print('i would like to  {} {}' .format(args[0],kwargs['food']))"
   ]
  },
  {
   "cell_type": "code",
   "execution_count": 133,
   "id": "f6529b86",
   "metadata": {},
   "outputs": [
    {
     "name": "stdout",
     "output_type": "stream",
     "text": [
      "i would like to  10 bread\n"
     ]
    }
   ],
   "source": [
    "myfunc(10,20,30,fruit='apple',food='bread')"
   ]
  },
  {
   "cell_type": "code",
   "execution_count": 137,
   "id": "cfa5b388",
   "metadata": {},
   "outputs": [],
   "source": [
    "def myfunc(x):\n",
    "    out = []\n",
    "    for i in range(len(x)):\n",
    "        if i%2==0:\n",
    "            out.append(x[i].lower())\n",
    "        else:\n",
    "            out.append(x[i].upper())\n",
    "    return ''.join(out)"
   ]
  },
  {
   "cell_type": "code",
   "execution_count": null,
   "id": "c419bacf",
   "metadata": {},
   "outputs": [],
   "source": []
  },
  {
   "cell_type": "code",
   "execution_count": null,
   "id": "4efcf9ea",
   "metadata": {},
   "outputs": [],
   "source": []
  }
 ],
 "metadata": {
  "kernelspec": {
   "display_name": "Python 3 (ipykernel)",
   "language": "python",
   "name": "python3"
  },
  "language_info": {
   "codemirror_mode": {
    "name": "ipython",
    "version": 3
   },
   "file_extension": ".py",
   "mimetype": "text/x-python",
   "name": "python",
   "nbconvert_exporter": "python",
   "pygments_lexer": "ipython3",
   "version": "3.9.13"
  }
 },
 "nbformat": 4,
 "nbformat_minor": 5
}
