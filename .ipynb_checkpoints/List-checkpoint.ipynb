{
 "cells": [
  {
   "cell_type": "code",
   "execution_count": 1,
   "id": "7c7ddb24",
   "metadata": {},
   "outputs": [],
   "source": [
    "my_list=[1,2,3]"
   ]
  },
  {
   "cell_type": "code",
   "execution_count": 2,
   "id": "82828ab9",
   "metadata": {},
   "outputs": [
    {
     "data": {
      "text/plain": [
       "3"
      ]
     },
     "execution_count": 2,
     "metadata": {},
     "output_type": "execute_result"
    }
   ],
   "source": [
    "len(my_list)"
   ]
  },
  {
   "cell_type": "code",
   "execution_count": 3,
   "id": "45da7be5",
   "metadata": {},
   "outputs": [],
   "source": [
    "my_list=['love',\"life\",3]"
   ]
  },
  {
   "cell_type": "code",
   "execution_count": 4,
   "id": "a596e09c",
   "metadata": {},
   "outputs": [
    {
     "data": {
      "text/plain": [
       "'love'"
      ]
     },
     "execution_count": 4,
     "metadata": {},
     "output_type": "execute_result"
    }
   ],
   "source": [
    "my_list [0]"
   ]
  },
  {
   "cell_type": "code",
   "execution_count": 6,
   "id": "5064a2e5",
   "metadata": {},
   "outputs": [
    {
     "data": {
      "text/plain": [
       "['love', 'life']"
      ]
     },
     "execution_count": 6,
     "metadata": {},
     "output_type": "execute_result"
    }
   ],
   "source": [
    "my_list [0:2]"
   ]
  },
  {
   "cell_type": "code",
   "execution_count": 7,
   "id": "92257267",
   "metadata": {},
   "outputs": [],
   "source": [
    "another_list=['do','it']"
   ]
  },
  {
   "cell_type": "code",
   "execution_count": 11,
   "id": "6d926960",
   "metadata": {},
   "outputs": [],
   "source": [
    "new_list=my_list+another_list"
   ]
  },
  {
   "cell_type": "code",
   "execution_count": 12,
   "id": "e560b99f",
   "metadata": {},
   "outputs": [
    {
     "data": {
      "text/plain": [
       "['love', 'life', 3, 'do', 'it']"
      ]
     },
     "execution_count": 12,
     "metadata": {},
     "output_type": "execute_result"
    }
   ],
   "source": [
    "new_list"
   ]
  },
  {
   "cell_type": "code",
   "execution_count": 13,
   "id": "a01aee22",
   "metadata": {},
   "outputs": [],
   "source": [
    "new_list [0]='sad'"
   ]
  },
  {
   "cell_type": "code",
   "execution_count": 14,
   "id": "0c7dc246",
   "metadata": {},
   "outputs": [
    {
     "data": {
      "text/plain": [
       "['sad', 'life', 3, 'do', 'it']"
      ]
     },
     "execution_count": 14,
     "metadata": {},
     "output_type": "execute_result"
    }
   ],
   "source": [
    "new_list"
   ]
  },
  {
   "cell_type": "code",
   "execution_count": 16,
   "id": "50e21718",
   "metadata": {},
   "outputs": [],
   "source": [
    "new_list.append(\"six\")"
   ]
  },
  {
   "cell_type": "code",
   "execution_count": 17,
   "id": "7738f275",
   "metadata": {},
   "outputs": [
    {
     "data": {
      "text/plain": [
       "['sad', 'life', 3, 'do', 'it', 'six']"
      ]
     },
     "execution_count": 17,
     "metadata": {},
     "output_type": "execute_result"
    }
   ],
   "source": [
    "new_list"
   ]
  },
  {
   "cell_type": "code",
   "execution_count": 18,
   "id": "91453885",
   "metadata": {},
   "outputs": [
    {
     "data": {
      "text/plain": [
       "'six'"
      ]
     },
     "execution_count": 18,
     "metadata": {},
     "output_type": "execute_result"
    }
   ],
   "source": [
    "new_list.pop()"
   ]
  },
  {
   "cell_type": "code",
   "execution_count": 19,
   "id": "87571d33",
   "metadata": {},
   "outputs": [
    {
     "data": {
      "text/plain": [
       "['sad', 'life', 3, 'do', 'it']"
      ]
     },
     "execution_count": 19,
     "metadata": {},
     "output_type": "execute_result"
    }
   ],
   "source": [
    "new_list"
   ]
  },
  {
   "cell_type": "code",
   "execution_count": 20,
   "id": "e5320aea",
   "metadata": {},
   "outputs": [
    {
     "data": {
      "text/plain": [
       "'sad'"
      ]
     },
     "execution_count": 20,
     "metadata": {},
     "output_type": "execute_result"
    }
   ],
   "source": [
    "new_list.pop(0)"
   ]
  },
  {
   "cell_type": "code",
   "execution_count": 22,
   "id": "d1e85925",
   "metadata": {},
   "outputs": [],
   "source": [
    "new_list=['a','c','e','r','t','x']\n",
    "num_list=[4,1,6,8]"
   ]
  },
  {
   "cell_type": "code",
   "execution_count": 23,
   "id": "0863a9e3",
   "metadata": {},
   "outputs": [],
   "source": [
    "new_list.sort()"
   ]
  },
  {
   "cell_type": "code",
   "execution_count": 24,
   "id": "bc3717cb",
   "metadata": {},
   "outputs": [
    {
     "data": {
      "text/plain": [
       "['a', 'c', 'e', 'r', 't', 'x']"
      ]
     },
     "execution_count": 24,
     "metadata": {},
     "output_type": "execute_result"
    }
   ],
   "source": [
    "new_list"
   ]
  },
  {
   "cell_type": "code",
   "execution_count": null,
   "id": "b4df5875",
   "metadata": {},
   "outputs": [],
   "source": [
    "num_list.sort()"
   ]
  },
  {
   "cell_type": "code",
   "execution_count": 26,
   "id": "cd7633df",
   "metadata": {},
   "outputs": [
    {
     "data": {
      "text/plain": [
       "[1, 4, 6, 8]"
      ]
     },
     "execution_count": 26,
     "metadata": {},
     "output_type": "execute_result"
    }
   ],
   "source": [
    "num_list"
   ]
  },
  {
   "cell_type": "code",
   "execution_count": 27,
   "id": "c1be97bd",
   "metadata": {},
   "outputs": [
    {
     "data": {
      "text/plain": [
       "[8, 6, 4, 1]"
      ]
     },
     "execution_count": 27,
     "metadata": {},
     "output_type": "execute_result"
    }
   ],
   "source": [
    "num_list.reverse()\n",
    "num_list"
   ]
  },
  {
   "cell_type": "code",
   "execution_count": null,
   "id": "8ac469f9",
   "metadata": {},
   "outputs": [],
   "source": []
  }
 ],
 "metadata": {
  "kernelspec": {
   "display_name": "Python 3 (ipykernel)",
   "language": "python",
   "name": "python3"
  },
  "language_info": {
   "codemirror_mode": {
    "name": "ipython",
    "version": 3
   },
   "file_extension": ".py",
   "mimetype": "text/x-python",
   "name": "python",
   "nbconvert_exporter": "python",
   "pygments_lexer": "ipython3",
   "version": "3.9.13"
  }
 },
 "nbformat": 4,
 "nbformat_minor": 5
}
