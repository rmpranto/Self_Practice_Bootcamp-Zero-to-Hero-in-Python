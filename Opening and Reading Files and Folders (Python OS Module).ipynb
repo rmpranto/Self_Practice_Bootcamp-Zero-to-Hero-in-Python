{
 "cells": [
  {
   "cell_type": "code",
   "execution_count": 2,
   "id": "72df1c0e",
   "metadata": {},
   "outputs": [
    {
     "data": {
      "text/plain": [
       "'C:\\\\Users\\\\User\\\\Desktop\\\\Practice_2022 Complete Python Bootcamp From Zero to Hero in Python'"
      ]
     },
     "execution_count": 2,
     "metadata": {},
     "output_type": "execute_result"
    }
   ],
   "source": [
    "pwd #current location"
   ]
  },
  {
   "cell_type": "code",
   "execution_count": 8,
   "id": "f4226cdd",
   "metadata": {},
   "outputs": [],
   "source": [
    "f=open('know.txt','w+')\n",
    "f.write('opening and reading files')\n",
    "f.close()"
   ]
  },
  {
   "cell_type": "code",
   "execution_count": 9,
   "id": "b7771169",
   "metadata": {},
   "outputs": [],
   "source": [
    "import os"
   ]
  },
  {
   "cell_type": "code",
   "execution_count": 11,
   "id": "eafc4ab5",
   "metadata": {},
   "outputs": [
    {
     "data": {
      "text/plain": [
       "'C:\\\\Users\\\\User\\\\Desktop\\\\Practice_2022 Complete Python Bootcamp From Zero to Hero in Python'"
      ]
     },
     "execution_count": 11,
     "metadata": {},
     "output_type": "execute_result"
    }
   ],
   "source": [
    "os.getcwd()"
   ]
  },
  {
   "cell_type": "code",
   "execution_count": 19,
   "id": "dfc37cc5",
   "metadata": {},
   "outputs": [
    {
     "data": {
      "text/plain": [
       "['All Users',\n",
       " 'Common Files',\n",
       " 'Default',\n",
       " 'Default User',\n",
       " 'desktop.ini',\n",
       " 'Public',\n",
       " 'User']"
      ]
     },
     "execution_count": 19,
     "metadata": {},
     "output_type": "execute_result"
    }
   ],
   "source": [
    "os.listdir('C:\\\\Users')"
   ]
  },
  {
   "cell_type": "code",
   "execution_count": 20,
   "id": "4db07208",
   "metadata": {},
   "outputs": [],
   "source": [
    "import shutil"
   ]
  },
  {
   "cell_type": "code",
   "execution_count": 29,
   "id": "4d5f43b4",
   "metadata": {},
   "outputs": [
    {
     "data": {
      "text/plain": [
       "'C:\\\\Users\\\\User\\\\Desktop\\\\Practice_2022 Complete Python Bootcamp From Zero to Hero in Python\\\\know.txt'"
      ]
     },
     "execution_count": 29,
     "metadata": {},
     "output_type": "execute_result"
    }
   ],
   "source": [
    "shutil.move('C:\\\\Users\\\\User\\\\Desktop\\\\Practice_2022 Complete Python Bootcamp From Zero to Hero in Python\\\\move file\\\\know.txt','C:\\\\Users\\\\User\\\\Desktop\\\\Practice_2022 Complete Python Bootcamp From Zero to Hero in Python')"
   ]
  },
  {
   "cell_type": "code",
   "execution_count": 30,
   "id": "0f67d16a",
   "metadata": {},
   "outputs": [
    {
     "data": {
      "text/plain": [
       "[]"
      ]
     },
     "execution_count": 30,
     "metadata": {},
     "output_type": "execute_result"
    }
   ],
   "source": [
    "os.listdir('move file')"
   ]
  },
  {
   "cell_type": "code",
   "execution_count": 31,
   "id": "db1b25e7",
   "metadata": {},
   "outputs": [],
   "source": [
    "import send2trash"
   ]
  },
  {
   "cell_type": "code",
   "execution_count": 24,
   "id": "a71a30ee",
   "metadata": {},
   "outputs": [
    {
     "data": {
      "text/plain": [
       "['# Function Practice Exercises.ipynb',\n",
       " '# Functions and Methods Homework.ipynb',\n",
       " '.git',\n",
       " '.idea',\n",
       " '.ipynb_checkpoints',\n",
       " '02-Milestone Project 1 - Walkthrough Steps Workbook.ipynb',\n",
       " 'Blackjack Game_Milestone Project 2 - Walkthrough Steps Workbook.ipynb',\n",
       " 'cap.py',\n",
       " 'collection module.ipynb',\n",
       " 'Comaprision operator.ipynb',\n",
       " 'decorators.ipynb',\n",
       " 'Dictionaries.ipynb',\n",
       " 'Error and Exception handeling.ipynb',\n",
       " 'Errors and Exceptions Homework.ipynb',\n",
       " 'files.ipynb',\n",
       " 'generator.ipynb',\n",
       " 'Lambda Expressions, Map, and Filter Functions.ipynb',\n",
       " 'List.ipynb',\n",
       " 'Methods and Functions.ipynb',\n",
       " 'Milestone Project 1 - Tic Tac Toe Game',\n",
       " 'move file',\n",
       " 'MyMainPackege',\n",
       " 'mymodule.py',\n",
       " 'Nested Statements and Scope.ipynb',\n",
       " 'Numbers.ipynb',\n",
       " 'Object Oriented Programming Homework.ipynb',\n",
       " 'Objects and Data Structures Assessment Test.ipynb',\n",
       " 'OOP Challenge.ipynb',\n",
       " 'OOP concepts_Class_inheritence_abstraction_polumorphism_encapsulation.ipynb',\n",
       " 'opening and reading dummy.ipynb',\n",
       " 'Opening and Reading Files and Folders (Python OS Module).ipynb',\n",
       " 'README.md',\n",
       " 'simple1.py',\n",
       " 'Statements Assessment Test.ipynb',\n",
       " 'Statements.ipynb',\n",
       " 'strings.ipynb',\n",
       " 'test_cap.py',\n",
       " 'Tuples_sets_Boolean.ipynb',\n",
       " 'Variable Assignments.ipynb',\n",
       " 'War Game_Milestone project 2_warmup.ipynb',\n",
       " 'Warm Up Project 1 Exercises.ipynb',\n",
       " '__pycache__']"
      ]
     },
     "execution_count": 24,
     "metadata": {},
     "output_type": "execute_result"
    }
   ],
   "source": [
    "os.listdir()"
   ]
  },
  {
   "cell_type": "code",
   "execution_count": 32,
   "id": "2758df10",
   "metadata": {},
   "outputs": [],
   "source": [
    "send2trash.send2trash('know.txt')"
   ]
  },
  {
   "cell_type": "code",
   "execution_count": 34,
   "id": "fa9db90c",
   "metadata": {},
   "outputs": [
    {
     "data": {
      "text/plain": [
       "['# Function Practice Exercises.ipynb',\n",
       " '# Functions and Methods Homework.ipynb',\n",
       " '.git',\n",
       " '.idea',\n",
       " '.ipynb_checkpoints',\n",
       " '02-Milestone Project 1 - Walkthrough Steps Workbook.ipynb',\n",
       " 'Blackjack Game_Milestone Project 2 - Walkthrough Steps Workbook.ipynb',\n",
       " 'cap.py',\n",
       " 'collection module.ipynb',\n",
       " 'Comaprision operator.ipynb',\n",
       " 'decorators.ipynb',\n",
       " 'Dictionaries.ipynb',\n",
       " 'Error and Exception handeling.ipynb',\n",
       " 'Errors and Exceptions Homework.ipynb',\n",
       " 'files.ipynb',\n",
       " 'generator.ipynb',\n",
       " 'Lambda Expressions, Map, and Filter Functions.ipynb',\n",
       " 'List.ipynb',\n",
       " 'Methods and Functions.ipynb',\n",
       " 'Milestone Project 1 - Tic Tac Toe Game',\n",
       " 'move file',\n",
       " 'MyMainPackege',\n",
       " 'mymodule.py',\n",
       " 'Nested Statements and Scope.ipynb',\n",
       " 'Numbers.ipynb',\n",
       " 'Object Oriented Programming Homework.ipynb',\n",
       " 'Objects and Data Structures Assessment Test.ipynb',\n",
       " 'OOP Challenge.ipynb',\n",
       " 'OOP concepts_Class_inheritence_abstraction_polumorphism_encapsulation.ipynb',\n",
       " 'opening and reading dummy.ipynb',\n",
       " 'Opening and Reading Files and Folders (Python OS Module).ipynb',\n",
       " 'README.md',\n",
       " 'simple1.py',\n",
       " 'Statements Assessment Test.ipynb',\n",
       " 'Statements.ipynb',\n",
       " 'strings.ipynb',\n",
       " 'test_cap.py',\n",
       " 'Tuples_sets_Boolean.ipynb',\n",
       " 'Variable Assignments.ipynb',\n",
       " 'War Game_Milestone project 2_warmup.ipynb',\n",
       " 'Warm Up Project 1 Exercises.ipynb',\n",
       " '__pycache__']"
      ]
     },
     "execution_count": 34,
     "metadata": {},
     "output_type": "execute_result"
    }
   ],
   "source": [
    "os.listdir()"
   ]
  },
  {
   "cell_type": "code",
   "execution_count": 37,
   "id": "48b8ec9f",
   "metadata": {},
   "outputs": [
    {
     "data": {
      "text/plain": [
       "<function os.walk(top, topdown=True, onerror=None, followlinks=False)>"
      ]
     },
     "execution_count": 37,
     "metadata": {},
     "output_type": "execute_result"
    }
   ],
   "source": [
    "os.walk"
   ]
  },
  {
   "cell_type": "code",
   "execution_count": 39,
   "id": "0233ec02",
   "metadata": {},
   "outputs": [],
   "source": [
    "#create new file\n",
    "f = open(\"myfile.txt\", \"w\")"
   ]
  },
  {
   "cell_type": "code",
   "execution_count": 41,
   "id": "18a7ae18",
   "metadata": {},
   "outputs": [
    {
     "ename": "FileExistsError",
     "evalue": "[Errno 17] File exists: 'myfile.txt'",
     "output_type": "error",
     "traceback": [
      "\u001b[1;31m---------------------------------------------------------------------------\u001b[0m",
      "\u001b[1;31mFileExistsError\u001b[0m                           Traceback (most recent call last)",
      "\u001b[1;32m~\\AppData\\Local\\Temp\\ipykernel_14412\\3939667174.py\u001b[0m in \u001b[0;36m<module>\u001b[1;34m\u001b[0m\n\u001b[0;32m      1\u001b[0m \u001b[1;31m#return error if file exist\u001b[0m\u001b[1;33m\u001b[0m\u001b[1;33m\u001b[0m\u001b[0m\n\u001b[1;32m----> 2\u001b[1;33m \u001b[0mf\u001b[0m \u001b[1;33m=\u001b[0m \u001b[0mopen\u001b[0m\u001b[1;33m(\u001b[0m\u001b[1;34m\"myfile.txt\"\u001b[0m\u001b[1;33m,\u001b[0m \u001b[1;34m\"x\"\u001b[0m\u001b[1;33m)\u001b[0m\u001b[1;33m\u001b[0m\u001b[1;33m\u001b[0m\u001b[0m\n\u001b[0m",
      "\u001b[1;31mFileExistsError\u001b[0m: [Errno 17] File exists: 'myfile.txt'"
     ]
    }
   ],
   "source": [
    "#return error if file exist\n",
    "f = open(\"myfile.txt\", \"x\")"
   ]
  },
  {
   "cell_type": "code",
   "execution_count": 42,
   "id": "94079b6b",
   "metadata": {},
   "outputs": [],
   "source": [
    "#write file\n",
    "f = open(\"myfile.txt\", \"w\")\n",
    "f.write(\"Now the file has more content!\")\n",
    "f.close()"
   ]
  },
  {
   "cell_type": "code",
   "execution_count": 43,
   "id": "e0260248",
   "metadata": {},
   "outputs": [],
   "source": [
    "#write new lines apend\n",
    "f = open(\"myfile.txt\", \"a\")\n",
    "f.write(\"extra lines.\")\n",
    "f.close()"
   ]
  },
  {
   "cell_type": "code",
   "execution_count": 46,
   "id": "97295d60",
   "metadata": {},
   "outputs": [
    {
     "ename": "FileNotFoundError",
     "evalue": "[WinError -2147024894] The system cannot find the file specified.: 'C:\\\\Users\\\\User\\\\Desktop\\\\Practice_2022 Complete Python Bootcamp From Zero to Hero in Python\\\\myfile1.txt'",
     "output_type": "error",
     "traceback": [
      "\u001b[1;31m---------------------------------------------------------------------------\u001b[0m",
      "\u001b[1;31mcom_error\u001b[0m                                 Traceback (most recent call last)",
      "\u001b[1;32m~\\anaconda3\\lib\\site-packages\\send2trash\\plat_win_modern.py\u001b[0m in \u001b[0;36msend2trash\u001b[1;34m(paths)\u001b[0m\n\u001b[0;32m     58\u001b[0m         \u001b[1;32mfor\u001b[0m \u001b[0mpath\u001b[0m \u001b[1;32min\u001b[0m \u001b[0mpaths\u001b[0m\u001b[1;33m:\u001b[0m\u001b[1;33m\u001b[0m\u001b[1;33m\u001b[0m\u001b[0m\n\u001b[1;32m---> 59\u001b[1;33m             \u001b[0mitem\u001b[0m \u001b[1;33m=\u001b[0m \u001b[0mshell\u001b[0m\u001b[1;33m.\u001b[0m\u001b[0mSHCreateItemFromParsingName\u001b[0m\u001b[1;33m(\u001b[0m\u001b[0mpath\u001b[0m\u001b[1;33m,\u001b[0m \u001b[1;32mNone\u001b[0m\u001b[1;33m,\u001b[0m \u001b[0mshell\u001b[0m\u001b[1;33m.\u001b[0m\u001b[0mIID_IShellItem\u001b[0m\u001b[1;33m)\u001b[0m\u001b[1;33m\u001b[0m\u001b[1;33m\u001b[0m\u001b[0m\n\u001b[0m\u001b[0;32m     60\u001b[0m             \u001b[0mfileop\u001b[0m\u001b[1;33m.\u001b[0m\u001b[0mDeleteItem\u001b[0m\u001b[1;33m(\u001b[0m\u001b[0mitem\u001b[0m\u001b[1;33m,\u001b[0m \u001b[0msink\u001b[0m\u001b[1;33m)\u001b[0m\u001b[1;33m\u001b[0m\u001b[1;33m\u001b[0m\u001b[0m\n",
      "\u001b[1;31mcom_error\u001b[0m: (-2147024894, 'The system cannot find the file specified.', None, None)",
      "\nDuring handling of the above exception, another exception occurred:\n",
      "\u001b[1;31mFileNotFoundError\u001b[0m                         Traceback (most recent call last)",
      "\u001b[1;32m~\\AppData\\Local\\Temp\\ipykernel_14412\\877179226.py\u001b[0m in \u001b[0;36m<module>\u001b[1;34m\u001b[0m\n\u001b[0;32m      1\u001b[0m \u001b[1;31m#delete file\u001b[0m\u001b[1;33m\u001b[0m\u001b[1;33m\u001b[0m\u001b[0m\n\u001b[0;32m      2\u001b[0m \u001b[1;32mimport\u001b[0m \u001b[0msend2trash\u001b[0m\u001b[1;33m\u001b[0m\u001b[1;33m\u001b[0m\u001b[0m\n\u001b[1;32m----> 3\u001b[1;33m \u001b[0msend2trash\u001b[0m\u001b[1;33m.\u001b[0m\u001b[0msend2trash\u001b[0m\u001b[1;33m(\u001b[0m\u001b[1;34m'myfile1.txt'\u001b[0m\u001b[1;33m)\u001b[0m\u001b[1;33m\u001b[0m\u001b[1;33m\u001b[0m\u001b[0m\n\u001b[0m",
      "\u001b[1;32m~\\anaconda3\\lib\\site-packages\\send2trash\\plat_win_modern.py\u001b[0m in \u001b[0;36msend2trash\u001b[1;34m(paths)\u001b[0m\n\u001b[0;32m     67\u001b[0m         \u001b[1;31m# convert to standard OS error, allows other code to get a\u001b[0m\u001b[1;33m\u001b[0m\u001b[1;33m\u001b[0m\u001b[0m\n\u001b[0;32m     68\u001b[0m         \u001b[1;31m# normal errno\u001b[0m\u001b[1;33m\u001b[0m\u001b[1;33m\u001b[0m\u001b[0m\n\u001b[1;32m---> 69\u001b[1;33m         \u001b[1;32mraise\u001b[0m \u001b[0mOSError\u001b[0m\u001b[1;33m(\u001b[0m\u001b[1;32mNone\u001b[0m\u001b[1;33m,\u001b[0m \u001b[0merror\u001b[0m\u001b[1;33m.\u001b[0m\u001b[0mstrerror\u001b[0m\u001b[1;33m,\u001b[0m \u001b[0mpath\u001b[0m\u001b[1;33m,\u001b[0m \u001b[0merror\u001b[0m\u001b[1;33m.\u001b[0m\u001b[0mhresult\u001b[0m\u001b[1;33m)\u001b[0m\u001b[1;33m\u001b[0m\u001b[1;33m\u001b[0m\u001b[0m\n\u001b[0m\u001b[0;32m     70\u001b[0m     \u001b[1;32mfinally\u001b[0m\u001b[1;33m:\u001b[0m\u001b[1;33m\u001b[0m\u001b[1;33m\u001b[0m\u001b[0m\n\u001b[0;32m     71\u001b[0m         \u001b[1;31m# Need to make sure we call this once fore every init\u001b[0m\u001b[1;33m\u001b[0m\u001b[1;33m\u001b[0m\u001b[0m\n",
      "\u001b[1;31mFileNotFoundError\u001b[0m: [WinError -2147024894] The system cannot find the file specified.: 'C:\\\\Users\\\\User\\\\Desktop\\\\Practice_2022 Complete Python Bootcamp From Zero to Hero in Python\\\\myfile1.txt'"
     ]
    }
   ],
   "source": [
    "#delete file\n",
    "import send2trash\n",
    "send2trash.send2trash('myfile1.txt')\n"
   ]
  },
  {
   "cell_type": "code",
   "execution_count": null,
   "id": "983c0211",
   "metadata": {},
   "outputs": [],
   "source": []
  }
 ],
 "metadata": {
  "kernelspec": {
   "display_name": "Python 3 (ipykernel)",
   "language": "python",
   "name": "python3"
  },
  "language_info": {
   "codemirror_mode": {
    "name": "ipython",
    "version": 3
   },
   "file_extension": ".py",
   "mimetype": "text/x-python",
   "name": "python",
   "nbconvert_exporter": "python",
   "pygments_lexer": "ipython3",
   "version": "3.9.13"
  }
 },
 "nbformat": 4,
 "nbformat_minor": 5
}
